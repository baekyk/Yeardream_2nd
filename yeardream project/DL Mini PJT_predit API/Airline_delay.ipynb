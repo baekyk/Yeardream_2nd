{
 "cells": [
  {
   "cell_type": "markdown",
   "id": "e1f2ffe0",
   "metadata": {},
   "source": [
    "## 참고: https://hleecaster.com/ml-linear-regression-example/"
   ]
  },
  {
   "cell_type": "markdown",
   "id": "68454dc7",
   "metadata": {},
   "source": [
    "## 라이브러리 설치, 호출"
   ]
  },
  {
   "cell_type": "markdown",
   "id": "e93443a5",
   "metadata": {},
   "source": [
    "!pip3 install -U scikit-learn<br>\n",
    "!pip3 install pandas<br>\n",
    "!pip3 install numpy<br>\n",
    "!pip3 install matplotlib<br>\n",
    "!pip3 install statsmodels<br>"
   ]
  },
  {
   "cell_type": "code",
   "execution_count": 1,
   "id": "5d627762",
   "metadata": {
    "ExecuteTime": {
     "end_time": "2022-07-08T07:30:23.020805Z",
     "start_time": "2022-07-08T07:30:20.921894Z"
    }
   },
   "outputs": [],
   "source": [
    "import tensorflow as tf\n",
    "import pandas as pd\n",
    "import numpy as np\n",
    "import matplotlib.pyplot as plt\n",
    "import statsmodels.api as sm\n",
    "\n",
    "from tensorflow.keras.models import Sequential, load_model\n",
    "from tensorflow.keras.layers import Dense\n",
    "from tensorflow.keras.optimizers import SGD, Adam\n",
    "from tensorflow.keras.callbacks import ModelCheckpoint, TensorBoard, ReduceLROnPlateau"
   ]
  },
  {
   "cell_type": "markdown",
   "id": "d522cb67",
   "metadata": {},
   "source": [
    "Alaska Airlines AS / ASA  \n",
    "American Airlines AA/AAL  \n",
    "Air Canada AC/ACA  \n",
    "Aeromexico AM / AMX  \n",
    "Continental Airlines CO / COA  \n",
    "Delta Airlines DL / DAL  \n",
    "FedEx FX / FDX  \n",
    "Hawaiian Airlines HA / HAL  \n",
    "Northwest Airlines NW / NWA  \n",
    "Polar Air Cargo PO / PAC  \n",
    "Southwest Airlines SW / SWA  \n",
    "United Airlines UA / UAL  \n",
    "United Parcel (UPS) 5X / UPS  \n",
    "Virgin Atlantic VS / VIR  \n",
    "VivaAerobús VB / VIV  \n",
    "WestJet WS / WJ  \n",
    "\n",
    "ATL - Hartsfield-Jackson Atlanta International Airport - Georgia  \n",
    "AUS - Austin-Bergstrom International Airport - Texas  \n",
    "BNA - Nashville International Airport - Tennessee  \n",
    "BOS - Boston Logan International Airport - Massachusetts  \n",
    "BWI - Baltimore-Washington International Thurgood Marshall Airport - Washington  \n",
    "CLT - Charlotte Douglas International Airport - North Carolina  \n",
    "DAL - Dallas Love Field - Texas  \n",
    "DCA - Ronald Reagan Washington National Airport - Arlington, Virginia  \n",
    "DEN - Denver International Airport - Colorado  \n",
    "DFW - Dallas/Fort Worth International Airport - Texas  \n",
    "DTW - Detroit Metropolitan Airport - Michigan  \n",
    "EWR - Newark Liberty International Airport - New Jersey  \n",
    "FLL - Fort Lauderdale–Hollywood International Airport - Florida  \n",
    "HNL - Daniel K. Inouye International Airport - Honolulu, Hawaii  \n",
    "HOU - William P. Hobby Airport - Houston, Texas  \n",
    "IAD - Dulles International Airport - Virginia  \n",
    "IAH - George Bush Intercontinental Airport - Houston, Texas  \n",
    "JFK - John F. Kennedy International Airport - Queens, New York  \n",
    "LAS - McCarran International Airport - Las Vegas, Nevada  \n",
    "LAX - Los Angeles International Airport - California  \n",
    "LGA - LaGuardia Airport - Queens, New York  \n",
    "MCO - Orlando International Airport - Florida  \n",
    "MDW - Chicago Midway International Airport - Illinois  \n",
    "MIA - Miami International Airport - Florida  \n",
    "MSP - Minneapolis–Saint Paul International Airport - Minnesota  \n",
    "MSY - Louis Armstrong New Orleans International Airport - Louisiana  \n",
    "OAK - Oakland International Airport - California  \n",
    "ORD - O'Hare International Airport - Chicago, Illinois  \n",
    "PDX - Portland International Airport - Oregon  \n",
    "PHL - Philadelphia International Airport - Pennsylvania  \n",
    "PHX - Phoenix Sky Harbor International Airport - Arizona  \n",
    "RDU - Raleigh-Durham International Airport - North Carolina  \n",
    "SAN - San Diego International Airport - California  \n",
    "SEA - Seattle–Tacoma International Airport - Washington  \n",
    "SFO - San Francisco International Airport - California  \n",
    "SJC - Norman Y. Mineta San Jose International Airport - California  \n",
    "SLC - Salt Lake City International Airport - Utah  \n",
    "SMF - Sacramento International Airport - California  \n",
    "STL - St. Louis Lambert International Airport - Missouri  \n",
    "TPA - Tampa International Airport - Florida  "
   ]
  },
  {
   "cell_type": "markdown",
   "id": "f4b7823f",
   "metadata": {},
   "source": [
    "## 데이터 다운로드 (airline)"
   ]
  },
  {
   "cell_type": "code",
   "execution_count": 2,
   "id": "7a59f102",
   "metadata": {
    "ExecuteTime": {
     "end_time": "2022-07-08T07:30:27.127122Z",
     "start_time": "2022-07-08T07:30:26.938421Z"
    }
   },
   "outputs": [
    {
     "name": "stdout",
     "output_type": "stream",
     "text": [
      "   id Airline  Flight AirportFrom AirportTo  DayOfWeek  Time  Length  Delay\n",
      "0   1      CO     269         SFO       IAH          3    15     205      1\n",
      "1   2      US    1558         PHX       CLT          3    15     222      1\n",
      "2   3      AA    2400         LAX       DFW          3    20     165      1\n",
      "3   4      AA    2466         SFO       DFW          3    20     195      1\n",
      "4   5      AS     108         ANC       SEA          3    30     202      0\n",
      "(539383, 9)\n"
     ]
    }
   ],
   "source": [
    "import pandas as pd\n",
    "df = pd.read_csv('Airlines.csv')\n",
    "print(df.head())\n",
    "print(df.shape)"
   ]
  },
  {
   "cell_type": "code",
   "execution_count": 3,
   "id": "b308c3fb",
   "metadata": {
    "ExecuteTime": {
     "end_time": "2022-07-08T07:30:30.222229Z",
     "start_time": "2022-07-08T07:30:30.194583Z"
    }
   },
   "outputs": [],
   "source": [
    "df = df.iloc[:,1:]"
   ]
  },
  {
   "cell_type": "code",
   "execution_count": 5,
   "id": "5f42d646",
   "metadata": {
    "ExecuteTime": {
     "end_time": "2022-07-08T07:30:31.645735Z",
     "start_time": "2022-07-08T07:30:31.633316Z"
    }
   },
   "outputs": [
    {
     "data": {
      "text/html": [
       "<div>\n",
       "<style scoped>\n",
       "    .dataframe tbody tr th:only-of-type {\n",
       "        vertical-align: middle;\n",
       "    }\n",
       "\n",
       "    .dataframe tbody tr th {\n",
       "        vertical-align: top;\n",
       "    }\n",
       "\n",
       "    .dataframe thead th {\n",
       "        text-align: right;\n",
       "    }\n",
       "</style>\n",
       "<table border=\"1\" class=\"dataframe\">\n",
       "  <thead>\n",
       "    <tr style=\"text-align: right;\">\n",
       "      <th></th>\n",
       "      <th>Airline</th>\n",
       "      <th>Flight</th>\n",
       "      <th>AirportFrom</th>\n",
       "      <th>AirportTo</th>\n",
       "      <th>DayOfWeek</th>\n",
       "      <th>Time</th>\n",
       "      <th>Length</th>\n",
       "      <th>Delay</th>\n",
       "    </tr>\n",
       "  </thead>\n",
       "  <tbody>\n",
       "    <tr>\n",
       "      <th>539378</th>\n",
       "      <td>CO</td>\n",
       "      <td>178</td>\n",
       "      <td>OGG</td>\n",
       "      <td>SNA</td>\n",
       "      <td>5</td>\n",
       "      <td>1439</td>\n",
       "      <td>326</td>\n",
       "      <td>0</td>\n",
       "    </tr>\n",
       "    <tr>\n",
       "      <th>539379</th>\n",
       "      <td>FL</td>\n",
       "      <td>398</td>\n",
       "      <td>SEA</td>\n",
       "      <td>ATL</td>\n",
       "      <td>5</td>\n",
       "      <td>1439</td>\n",
       "      <td>305</td>\n",
       "      <td>0</td>\n",
       "    </tr>\n",
       "    <tr>\n",
       "      <th>539380</th>\n",
       "      <td>FL</td>\n",
       "      <td>609</td>\n",
       "      <td>SFO</td>\n",
       "      <td>MKE</td>\n",
       "      <td>5</td>\n",
       "      <td>1439</td>\n",
       "      <td>255</td>\n",
       "      <td>0</td>\n",
       "    </tr>\n",
       "    <tr>\n",
       "      <th>539381</th>\n",
       "      <td>UA</td>\n",
       "      <td>78</td>\n",
       "      <td>HNL</td>\n",
       "      <td>SFO</td>\n",
       "      <td>5</td>\n",
       "      <td>1439</td>\n",
       "      <td>313</td>\n",
       "      <td>1</td>\n",
       "    </tr>\n",
       "    <tr>\n",
       "      <th>539382</th>\n",
       "      <td>US</td>\n",
       "      <td>1442</td>\n",
       "      <td>LAX</td>\n",
       "      <td>PHL</td>\n",
       "      <td>5</td>\n",
       "      <td>1439</td>\n",
       "      <td>301</td>\n",
       "      <td>1</td>\n",
       "    </tr>\n",
       "  </tbody>\n",
       "</table>\n",
       "</div>"
      ],
      "text/plain": [
       "       Airline  Flight AirportFrom AirportTo  DayOfWeek  Time  Length  Delay\n",
       "539378      CO     178         OGG       SNA          5  1439     326      0\n",
       "539379      FL     398         SEA       ATL          5  1439     305      0\n",
       "539380      FL     609         SFO       MKE          5  1439     255      0\n",
       "539381      UA      78         HNL       SFO          5  1439     313      1\n",
       "539382      US    1442         LAX       PHL          5  1439     301      1"
      ]
     },
     "execution_count": 5,
     "metadata": {},
     "output_type": "execute_result"
    }
   ],
   "source": [
    "df.tail()"
   ]
  },
  {
   "cell_type": "code",
   "execution_count": 6,
   "id": "64d59953",
   "metadata": {
    "ExecuteTime": {
     "end_time": "2022-07-08T07:30:32.380946Z",
     "start_time": "2022-07-08T07:30:32.214901Z"
    }
   },
   "outputs": [
    {
     "name": "stdout",
     "output_type": "stream",
     "text": [
      "<class 'pandas.core.frame.DataFrame'>\n",
      "RangeIndex: 539383 entries, 0 to 539382\n",
      "Data columns (total 8 columns):\n",
      " #   Column       Non-Null Count   Dtype \n",
      "---  ------       --------------   ----- \n",
      " 0   Airline      539383 non-null  object\n",
      " 1   Flight       539383 non-null  int64 \n",
      " 2   AirportFrom  539383 non-null  object\n",
      " 3   AirportTo    539383 non-null  object\n",
      " 4   DayOfWeek    539383 non-null  int64 \n",
      " 5   Time         539383 non-null  int64 \n",
      " 6   Length       539383 non-null  int64 \n",
      " 7   Delay        539383 non-null  int64 \n",
      "dtypes: int64(5), object(3)\n",
      "memory usage: 32.9+ MB\n"
     ]
    }
   ],
   "source": [
    "df.info()"
   ]
  },
  {
   "cell_type": "code",
   "execution_count": 50,
   "id": "6da42f12",
   "metadata": {
    "ExecuteTime": {
     "end_time": "2022-07-08T07:00:49.172956Z",
     "start_time": "2022-07-08T07:00:49.145972Z"
    }
   },
   "outputs": [],
   "source": [
    "# df[['Flight','DayOfWeek','Time','Length','Delay']] = df[['Flight','DayOfWeek','Time','Length','Delay']].astype(np.float32)"
   ]
  },
  {
   "cell_type": "code",
   "execution_count": 20,
   "id": "283cf646",
   "metadata": {
    "ExecuteTime": {
     "end_time": "2022-07-08T07:51:55.210006Z",
     "start_time": "2022-07-08T07:51:55.195083Z"
    }
   },
   "outputs": [
    {
     "data": {
      "text/html": [
       "<div>\n",
       "<style scoped>\n",
       "    .dataframe tbody tr th:only-of-type {\n",
       "        vertical-align: middle;\n",
       "    }\n",
       "\n",
       "    .dataframe tbody tr th {\n",
       "        vertical-align: top;\n",
       "    }\n",
       "\n",
       "    .dataframe thead th {\n",
       "        text-align: right;\n",
       "    }\n",
       "</style>\n",
       "<table border=\"1\" class=\"dataframe\">\n",
       "  <thead>\n",
       "    <tr style=\"text-align: right;\">\n",
       "      <th></th>\n",
       "      <th>Airline</th>\n",
       "      <th>Flight</th>\n",
       "      <th>AirportFrom</th>\n",
       "      <th>AirportTo</th>\n",
       "      <th>DayOfWeek</th>\n",
       "      <th>Time</th>\n",
       "      <th>Length</th>\n",
       "      <th>Delay</th>\n",
       "    </tr>\n",
       "  </thead>\n",
       "  <tbody>\n",
       "    <tr>\n",
       "      <th>539378</th>\n",
       "      <td>CO</td>\n",
       "      <td>178</td>\n",
       "      <td>OGG</td>\n",
       "      <td>SNA</td>\n",
       "      <td>5</td>\n",
       "      <td>1439</td>\n",
       "      <td>326</td>\n",
       "      <td>0</td>\n",
       "    </tr>\n",
       "    <tr>\n",
       "      <th>539379</th>\n",
       "      <td>FL</td>\n",
       "      <td>398</td>\n",
       "      <td>SEA</td>\n",
       "      <td>ATL</td>\n",
       "      <td>5</td>\n",
       "      <td>1439</td>\n",
       "      <td>305</td>\n",
       "      <td>0</td>\n",
       "    </tr>\n",
       "    <tr>\n",
       "      <th>539380</th>\n",
       "      <td>FL</td>\n",
       "      <td>609</td>\n",
       "      <td>SFO</td>\n",
       "      <td>MKE</td>\n",
       "      <td>5</td>\n",
       "      <td>1439</td>\n",
       "      <td>255</td>\n",
       "      <td>0</td>\n",
       "    </tr>\n",
       "    <tr>\n",
       "      <th>539381</th>\n",
       "      <td>UA</td>\n",
       "      <td>78</td>\n",
       "      <td>HNL</td>\n",
       "      <td>SFO</td>\n",
       "      <td>5</td>\n",
       "      <td>1439</td>\n",
       "      <td>313</td>\n",
       "      <td>1</td>\n",
       "    </tr>\n",
       "    <tr>\n",
       "      <th>539382</th>\n",
       "      <td>US</td>\n",
       "      <td>1442</td>\n",
       "      <td>LAX</td>\n",
       "      <td>PHL</td>\n",
       "      <td>5</td>\n",
       "      <td>1439</td>\n",
       "      <td>301</td>\n",
       "      <td>1</td>\n",
       "    </tr>\n",
       "  </tbody>\n",
       "</table>\n",
       "</div>"
      ],
      "text/plain": [
       "       Airline  Flight AirportFrom AirportTo  DayOfWeek  Time  Length  Delay\n",
       "539378      CO     178         OGG       SNA          5  1439     326      0\n",
       "539379      FL     398         SEA       ATL          5  1439     305      0\n",
       "539380      FL     609         SFO       MKE          5  1439     255      0\n",
       "539381      UA      78         HNL       SFO          5  1439     313      1\n",
       "539382      US    1442         LAX       PHL          5  1439     301      1"
      ]
     },
     "execution_count": 20,
     "metadata": {},
     "output_type": "execute_result"
    }
   ],
   "source": [
    "airline_mapping = {'ASA':1,'AAL':2,'ACA':3, 'AMX':4, \n",
    "                   'COA':5 ,'DAL':6, 'FDX':7, 'HAL':8, \n",
    "                   'NWA':9, 'PAC':10, 'SWA':11, 'UAL':12, \n",
    "                   'UPS':13, 'VIR':14, 'VIV':15, 'WJ':16}\n",
    "\n",
    "\n",
    "\n",
    "airport_mapping = {'ATL' : 1,'AUS' : 2,'BNA' : 3,'BOS' : 4,'BWI' : 5,'CLT' : 6,\n",
    "                   'DAL' : 7,'DCA' : 8,'DEN' : 9,'DFW' : 10,'DTW' : 11,'EWR' : 12,\n",
    "                   'FLL' : 13,'HNL' : 14,'HOU' : 15,'IAD' : 16,'IAH' : 17,'JFK' : 18,\n",
    "                   'LAS' : 19,'LAX' : 20,'LGA' : 21,'MCO' : 22,'MDW' : 23,'MIA' : 24,\n",
    "                   'MSP' : 25, 'MSY' : 26,'OAK' : 27,'ORD' : 28,'PDX' : 29,'PHL' : 30,\n",
    "                   'PHX' : 31,'RDU' : 32,'SAN' : 33,'SEA' : 34,'SFO' : 35,'SJC' : 36,\n",
    "                   'SLC' : 37,'SMF' : 38,'STL' : 39,'TPA' : 40}"
   ]
  },
  {
   "cell_type": "markdown",
   "id": "40f0380b",
   "metadata": {},
   "source": [
    "## Input, Feature , train, test 설정"
   ]
  },
  {
   "cell_type": "code",
   "execution_count": 7,
   "id": "71d020c0",
   "metadata": {
    "ExecuteTime": {
     "end_time": "2022-07-08T07:30:37.211115Z",
     "start_time": "2022-07-08T07:30:37.200870Z"
    }
   },
   "outputs": [],
   "source": [
    "Label = df['Delay']\n",
    "InputFeature = df[['Flight', 'DayOfWeek', 'Time', 'Length']]"
   ]
  },
  {
   "cell_type": "code",
   "execution_count": 8,
   "id": "7bc5b07c",
   "metadata": {
    "ExecuteTime": {
     "end_time": "2022-07-08T07:30:50.041419Z",
     "start_time": "2022-07-08T07:30:49.631672Z"
    }
   },
   "outputs": [],
   "source": [
    "from sklearn import model_selection"
   ]
  },
  {
   "cell_type": "code",
   "execution_count": 9,
   "id": "a00c20ef",
   "metadata": {
    "ExecuteTime": {
     "end_time": "2022-07-08T07:31:48.114063Z",
     "start_time": "2022-07-08T07:31:48.055735Z"
    }
   },
   "outputs": [
    {
     "name": "stdout",
     "output_type": "stream",
     "text": [
      "(377568, 4)\n",
      "(161815, 4)\n",
      "(377568,)\n",
      "(161815,)\n"
     ]
    }
   ],
   "source": [
    "train_data, test_data, train_label, test_label = model_selection.train_test_split(InputFeature, Label,\n",
    "                                                                                 test_size=0.3,\n",
    "                                                                                 random_state=0)\n",
    "print(train_data.shape)\n",
    "print(test_data.shape)\n",
    "print(train_label.shape)\n",
    "print(test_label.shape)"
   ]
  },
  {
   "cell_type": "markdown",
   "id": "d32c6cf8",
   "metadata": {},
   "source": [
    "## Keras Logit 모델 fitting"
   ]
  },
  {
   "cell_type": "code",
   "execution_count": 10,
   "id": "d7d4e469",
   "metadata": {
    "ExecuteTime": {
     "end_time": "2022-07-08T07:33:03.473516Z",
     "start_time": "2022-07-08T07:33:03.416479Z"
    }
   },
   "outputs": [],
   "source": [
    "model = Sequential()\n",
    "model.add(Dense(10, activation='relu', input_shape=(4,)))\n",
    "model.add(Dense(5, activation='relu'))\n",
    "model.add(Dense(1, activation='sigmoid'))\n",
    "\n",
    "model.compile(loss='binary_crossentropy',\n",
    "              optimizer=Adam(learning_rate=0.01), metrics=['accuracy'])"
   ]
  },
  {
   "cell_type": "markdown",
   "id": "9094ae0d",
   "metadata": {},
   "source": [
    "## Keras 모델 살펴보기"
   ]
  },
  {
   "cell_type": "code",
   "execution_count": 11,
   "id": "6e0721af",
   "metadata": {
    "ExecuteTime": {
     "end_time": "2022-07-08T07:33:04.849438Z",
     "start_time": "2022-07-08T07:33:04.837950Z"
    }
   },
   "outputs": [
    {
     "name": "stdout",
     "output_type": "stream",
     "text": [
      "Model: \"sequential\"\n",
      "_________________________________________________________________\n",
      " Layer (type)                Output Shape              Param #   \n",
      "=================================================================\n",
      " dense (Dense)               (None, 10)                50        \n",
      "                                                                 \n",
      " dense_1 (Dense)             (None, 5)                 55        \n",
      "                                                                 \n",
      " dense_2 (Dense)             (None, 1)                 6         \n",
      "                                                                 \n",
      "=================================================================\n",
      "Total params: 111\n",
      "Trainable params: 111\n",
      "Non-trainable params: 0\n",
      "_________________________________________________________________\n"
     ]
    }
   ],
   "source": [
    "model.summary()"
   ]
  },
  {
   "cell_type": "markdown",
   "id": "a3275484",
   "metadata": {},
   "source": [
    "## Call-back 함수\n",
    "## 모델 학습"
   ]
  },
  {
   "cell_type": "code",
   "execution_count": 55,
   "id": "0265eb03",
   "metadata": {
    "ExecuteTime": {
     "end_time": "2022-07-08T07:01:06.508806Z",
     "start_time": "2022-07-08T07:01:06.503324Z"
    }
   },
   "outputs": [],
   "source": [
    "# Call-back 함수\n",
    "# CheckPoint: Epoch 마다 validation 성능을 검증하여, best performance 일 경우 저장\n",
    "CP = ModelCheckpoint(filepath='-{epoch:03d}-{loss:.4f}-{accuracy:.4f}.hdf5',\n",
    "            monitor='loss', verbose=1, save_best_only=True, mode='min')\n",
    "\n",
    "# Learning Rate 줄여나가기\n",
    "LR = ReduceLROnPlateau(monitor='loss',factor=0.8,patience=3, verbose=1, min_lr=1e-8)\n",
    "\n",
    "CALLBACK = [CP, LR]"
   ]
  },
  {
   "cell_type": "code",
   "execution_count": 12,
   "id": "19ebe13f",
   "metadata": {
    "ExecuteTime": {
     "end_time": "2022-07-08T07:34:13.097464Z",
     "start_time": "2022-07-08T07:33:59.784847Z"
    }
   },
   "outputs": [
    {
     "name": "stdout",
     "output_type": "stream",
     "text": [
      "Epoch 1/50\n",
      "  1/738 [..............................] - ETA: 1:43 - loss: 100.6807 - accuracy: 0.5488"
     ]
    },
    {
     "name": "stderr",
     "output_type": "stream",
     "text": [
      "2022-07-08 16:33:59.834469: W tensorflow/core/platform/profile_utils/cpu_utils.cc:128] Failed to get CPU frequency: 0 Hz\n"
     ]
    },
    {
     "name": "stdout",
     "output_type": "stream",
     "text": [
      "738/738 [==============================] - 0s 376us/step - loss: 1.7560 - accuracy: 0.5230\n",
      "Epoch 2/50\n",
      "738/738 [==============================] - 0s 356us/step - loss: 0.7715 - accuracy: 0.5330\n",
      "Epoch 3/50\n",
      "738/738 [==============================] - 0s 353us/step - loss: 0.7080 - accuracy: 0.5393\n",
      "Epoch 4/50\n",
      "738/738 [==============================] - 0s 355us/step - loss: 0.6950 - accuracy: 0.5443\n",
      "Epoch 5/50\n",
      "738/738 [==============================] - 0s 352us/step - loss: 0.6886 - accuracy: 0.5480\n",
      "Epoch 6/50\n",
      "738/738 [==============================] - 0s 353us/step - loss: 0.6860 - accuracy: 0.5503\n",
      "Epoch 7/50\n",
      "738/738 [==============================] - 0s 353us/step - loss: 0.6852 - accuracy: 0.5521\n",
      "Epoch 8/50\n",
      "738/738 [==============================] - 0s 353us/step - loss: 0.6852 - accuracy: 0.5535\n",
      "Epoch 9/50\n",
      "738/738 [==============================] - 0s 351us/step - loss: 0.6851 - accuracy: 0.5536\n",
      "Epoch 10/50\n",
      "738/738 [==============================] - 0s 352us/step - loss: 0.6853 - accuracy: 0.5540\n",
      "Epoch 11/50\n",
      "738/738 [==============================] - 0s 351us/step - loss: 0.6860 - accuracy: 0.5540\n",
      "Epoch 12/50\n",
      "738/738 [==============================] - 0s 349us/step - loss: 0.6874 - accuracy: 0.5540\n",
      "Epoch 13/50\n",
      "738/738 [==============================] - 0s 353us/step - loss: 0.6874 - accuracy: 0.5540\n",
      "Epoch 14/50\n",
      "738/738 [==============================] - 0s 352us/step - loss: 0.6874 - accuracy: 0.5540\n",
      "Epoch 15/50\n",
      "738/738 [==============================] - 0s 350us/step - loss: 0.6873 - accuracy: 0.5540\n",
      "Epoch 16/50\n",
      "738/738 [==============================] - 0s 353us/step - loss: 0.6873 - accuracy: 0.5540\n",
      "Epoch 17/50\n",
      "738/738 [==============================] - 0s 358us/step - loss: 0.6874 - accuracy: 0.5540\n",
      "Epoch 18/50\n",
      "738/738 [==============================] - 0s 359us/step - loss: 0.6874 - accuracy: 0.5540\n",
      "Epoch 19/50\n",
      "738/738 [==============================] - 0s 356us/step - loss: 0.6874 - accuracy: 0.5540\n",
      "Epoch 20/50\n",
      "738/738 [==============================] - 0s 358us/step - loss: 0.6873 - accuracy: 0.5540\n",
      "Epoch 21/50\n",
      "738/738 [==============================] - 0s 357us/step - loss: 0.6873 - accuracy: 0.5540\n",
      "Epoch 22/50\n",
      "738/738 [==============================] - 0s 351us/step - loss: 0.6874 - accuracy: 0.5540\n",
      "Epoch 23/50\n",
      "738/738 [==============================] - 0s 357us/step - loss: 0.6873 - accuracy: 0.5540\n",
      "Epoch 24/50\n",
      "738/738 [==============================] - 0s 366us/step - loss: 0.6874 - accuracy: 0.5540\n",
      "Epoch 25/50\n",
      "738/738 [==============================] - 0s 351us/step - loss: 0.6874 - accuracy: 0.5540\n",
      "Epoch 26/50\n",
      "738/738 [==============================] - 0s 351us/step - loss: 0.6873 - accuracy: 0.5540\n",
      "Epoch 27/50\n",
      "738/738 [==============================] - 0s 355us/step - loss: 0.6874 - accuracy: 0.5540\n",
      "Epoch 28/50\n",
      "738/738 [==============================] - 0s 354us/step - loss: 0.6874 - accuracy: 0.5540\n",
      "Epoch 29/50\n",
      "738/738 [==============================] - 0s 358us/step - loss: 0.6873 - accuracy: 0.5540\n",
      "Epoch 30/50\n",
      "738/738 [==============================] - 0s 352us/step - loss: 0.6874 - accuracy: 0.5540\n",
      "Epoch 31/50\n",
      "738/738 [==============================] - 0s 353us/step - loss: 0.6874 - accuracy: 0.5540\n",
      "Epoch 32/50\n",
      "738/738 [==============================] - 0s 356us/step - loss: 0.6874 - accuracy: 0.5540\n",
      "Epoch 33/50\n",
      "738/738 [==============================] - 0s 355us/step - loss: 0.6874 - accuracy: 0.5540\n",
      "Epoch 34/50\n",
      "738/738 [==============================] - 0s 351us/step - loss: 0.6874 - accuracy: 0.5540\n",
      "Epoch 35/50\n",
      "738/738 [==============================] - 0s 350us/step - loss: 0.6873 - accuracy: 0.5540\n",
      "Epoch 36/50\n",
      "738/738 [==============================] - 0s 351us/step - loss: 0.6874 - accuracy: 0.5540\n",
      "Epoch 37/50\n",
      "738/738 [==============================] - 0s 350us/step - loss: 0.6873 - accuracy: 0.5540\n",
      "Epoch 38/50\n",
      "738/738 [==============================] - 0s 352us/step - loss: 0.6874 - accuracy: 0.5540\n",
      "Epoch 39/50\n",
      "738/738 [==============================] - 0s 351us/step - loss: 0.6873 - accuracy: 0.5540\n",
      "Epoch 40/50\n",
      "738/738 [==============================] - 0s 351us/step - loss: 0.6874 - accuracy: 0.5540\n",
      "Epoch 41/50\n",
      "738/738 [==============================] - 0s 352us/step - loss: 0.6874 - accuracy: 0.5540\n",
      "Epoch 42/50\n",
      "738/738 [==============================] - 0s 350us/step - loss: 0.6874 - accuracy: 0.5540\n",
      "Epoch 43/50\n",
      "738/738 [==============================] - 0s 352us/step - loss: 0.6874 - accuracy: 0.5540\n",
      "Epoch 44/50\n",
      "738/738 [==============================] - 0s 353us/step - loss: 0.6874 - accuracy: 0.5540\n",
      "Epoch 45/50\n",
      "738/738 [==============================] - 0s 356us/step - loss: 0.6873 - accuracy: 0.5540\n",
      "Epoch 46/50\n",
      "738/738 [==============================] - 0s 353us/step - loss: 0.6874 - accuracy: 0.5540\n",
      "Epoch 47/50\n",
      "738/738 [==============================] - 0s 352us/step - loss: 0.6873 - accuracy: 0.5540\n",
      "Epoch 48/50\n",
      "738/738 [==============================] - 0s 359us/step - loss: 0.6874 - accuracy: 0.5540\n",
      "Epoch 49/50\n",
      "738/738 [==============================] - 0s 350us/step - loss: 0.6873 - accuracy: 0.5540\n",
      "Epoch 50/50\n",
      "738/738 [==============================] - 0s 350us/step - loss: 0.6873 - accuracy: 0.5540\n"
     ]
    },
    {
     "data": {
      "text/plain": [
       "<keras.callbacks.History at 0x285cb2a60>"
      ]
     },
     "execution_count": 12,
     "metadata": {},
     "output_type": "execute_result"
    }
   ],
   "source": [
    "model.fit(x=train_data, y=train_label, epochs=50, shuffle=True, batch_size=512) #callbacks=CALLBACK)"
   ]
  },
  {
   "cell_type": "code",
   "execution_count": 13,
   "id": "b6386865",
   "metadata": {
    "ExecuteTime": {
     "end_time": "2022-07-08T07:34:39.519499Z",
     "start_time": "2022-07-08T07:34:38.193379Z"
    }
   },
   "outputs": [
    {
     "name": "stdout",
     "output_type": "stream",
     "text": [
      "5057/5057 [==============================] - 1s 241us/step - loss: 0.6869 - accuracy: 0.5558\n"
     ]
    },
    {
     "data": {
      "text/plain": [
       "[0.6869062185287476, 0.5558322668075562]"
      ]
     },
     "execution_count": 13,
     "metadata": {},
     "output_type": "execute_result"
    }
   ],
   "source": [
    "model.evaluate(test_data,test_label)"
   ]
  },
  {
   "cell_type": "code",
   "execution_count": 19,
   "id": "bc1db60f",
   "metadata": {
    "ExecuteTime": {
     "end_time": "2022-07-08T07:36:42.303219Z",
     "start_time": "2022-07-08T07:36:41.338280Z"
    }
   },
   "outputs": [
    {
     "data": {
      "text/plain": [
       "array([[0.44286036],\n",
       "       [0.44286036],\n",
       "       [0.44286036],\n",
       "       ...,\n",
       "       [0.44286036],\n",
       "       [0.44286036],\n",
       "       [0.44286036]], dtype=float32)"
      ]
     },
     "execution_count": 19,
     "metadata": {},
     "output_type": "execute_result"
    }
   ],
   "source": [
    "model.predict(test_data)"
   ]
  },
  {
   "cell_type": "markdown",
   "id": "8cc549da",
   "metadata": {},
   "source": [
    "# Model Load 하기 전, hdf5 파일 이름 꼭 확인하기"
   ]
  },
  {
   "cell_type": "code",
   "execution_count": 8,
   "id": "82688a7e",
   "metadata": {},
   "outputs": [],
   "source": [
    "model.load_weights(\"-098-0.5495-0.7619.hdf5\")"
   ]
  },
  {
   "cell_type": "markdown",
   "id": "e1d15266",
   "metadata": {},
   "source": [
    "## FLASK 셋팅하기"
   ]
  },
  {
   "cell_type": "code",
   "execution_count": 9,
   "id": "70d0c1e1",
   "metadata": {},
   "outputs": [],
   "source": [
    "from flask import Flask\n",
    "from flask import render_template\n",
    "from flask import request"
   ]
  },
  {
   "cell_type": "code",
   "execution_count": 10,
   "id": "56773ef9",
   "metadata": {},
   "outputs": [],
   "source": [
    "app = Flask(__name__)"
   ]
  },
  {
   "cell_type": "markdown",
   "id": "222a9e28",
   "metadata": {},
   "source": [
    "# FLASK API 구현부분"
   ]
  },
  {
   "cell_type": "code",
   "execution_count": 11,
   "id": "bc0c3b82",
   "metadata": {},
   "outputs": [],
   "source": [
    "@app.route('/')\n",
    "@app.route('/SpecialSale')\n",
    "def PredictionSpecialSale():\n",
    "    busy_day = request.args.get('busy_day')\n",
    "    high_temperature = request.args.get('high_temperature')\n",
    "    \n",
    "    print(busy_day, high_temperature)\n",
    "    \n",
    "    if busy_day == None or high_temperature == None:\n",
    "        return render_template('SpecialSale.html', Output = '')\n",
    "    \n",
    "    Input = pd.DataFrame({\n",
    "        'busy_day':[int(busy_day)],\n",
    "        'high_temperature':[float(high_temperature)]\n",
    "    })\n",
    "    ModelOutput = model.predict(Input)[0][0]\n",
    "\n",
    "    return render_template('SpecialSale.html', Output = ModelOutput)"
   ]
  },
  {
   "cell_type": "markdown",
   "id": "eddf9d92",
   "metadata": {},
   "source": [
    "# Flask, port 5000으로 실행"
   ]
  },
  {
   "cell_type": "code",
   "execution_count": null,
   "id": "9e8821ba",
   "metadata": {
    "scrolled": true
   },
   "outputs": [
    {
     "name": "stdout",
     "output_type": "stream",
     "text": [
      " * Serving Flask app '__main__' (lazy loading)\n",
      " * Environment: production\n",
      "\u001b[31m   WARNING: This is a development server. Do not use it in a production deployment.\u001b[0m\n",
      "\u001b[2m   Use a production WSGI server instead.\u001b[0m\n",
      " * Debug mode: off\n"
     ]
    },
    {
     "name": "stderr",
     "output_type": "stream",
     "text": [
      " * Running on all addresses (0.0.0.0)\n",
      "   WARNING: This is a development server. Do not use it in a production deployment.\n",
      " * Running on http://127.0.0.1:5000\n",
      " * Running on http://192.168.2.16:5000 (Press CTRL+C to quit)\n",
      "127.0.0.1 - - [07/Jul/2022 09:59:57] \"GET / HTTP/1.1\" 200 -\n"
     ]
    },
    {
     "name": "stdout",
     "output_type": "stream",
     "text": [
      "None None\n",
      "1 38\n",
      "1/1 [==============================] - 0s 369ms/step\n"
     ]
    },
    {
     "name": "stderr",
     "output_type": "stream",
     "text": [
      "127.0.0.1 - - [07/Jul/2022 10:00:01] \"GET /SpecialSale?busy_day=1&high_temperature=38 HTTP/1.1\" 200 -\n",
      "127.0.0.1 - - [07/Jul/2022 10:10:42] \"GET / HTTP/1.1\" 200 -\n"
     ]
    },
    {
     "name": "stdout",
     "output_type": "stream",
     "text": [
      "None None\n",
      "0 18\n",
      "1/1 [==============================] - 0s 21ms/step\n"
     ]
    },
    {
     "name": "stderr",
     "output_type": "stream",
     "text": [
      "127.0.0.1 - - [07/Jul/2022 10:11:00] \"GET /SpecialSale?busy_day=0&high_temperature=18 HTTP/1.1\" 200 -\n"
     ]
    },
    {
     "name": "stdout",
     "output_type": "stream",
     "text": [
      "1 50\n",
      "1/1 [==============================] - 0s 36ms/step\n"
     ]
    },
    {
     "name": "stderr",
     "output_type": "stream",
     "text": [
      "127.0.0.1 - - [07/Jul/2022 10:11:14] \"GET /SpecialSale?busy_day=1&high_temperature=50 HTTP/1.1\" 200 -\n"
     ]
    }
   ],
   "source": [
    "app.run(host='0.0.0.0', port=5000)"
   ]
  },
  {
   "cell_type": "code",
   "execution_count": null,
   "id": "f0e87d37",
   "metadata": {},
   "outputs": [],
   "source": [
    "# http://127.0.0.1:5000/SpecialSale/1/38"
   ]
  }
 ],
 "metadata": {
  "kernelspec": {
   "display_name": "Python 3 (ipykernel)",
   "language": "python",
   "name": "python3"
  },
  "language_info": {
   "codemirror_mode": {
    "name": "ipython",
    "version": 3
   },
   "file_extension": ".py",
   "mimetype": "text/x-python",
   "name": "python",
   "nbconvert_exporter": "python",
   "pygments_lexer": "ipython3",
   "version": "3.8.13"
  },
  "toc": {
   "base_numbering": 1,
   "nav_menu": {},
   "number_sections": true,
   "sideBar": true,
   "skip_h1_title": false,
   "title_cell": "Table of Contents",
   "title_sidebar": "Contents",
   "toc_cell": false,
   "toc_position": {},
   "toc_section_display": true,
   "toc_window_display": false
  }
 },
 "nbformat": 4,
 "nbformat_minor": 5
}
