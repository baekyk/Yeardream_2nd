{
 "cells": [
  {
   "cell_type": "markdown",
   "id": "629b0242",
   "metadata": {},
   "source": [
    "# 탑승자 데이터 불러오기"
   ]
  },
  {
   "cell_type": "code",
   "execution_count": 1,
   "id": "21da5461",
   "metadata": {
    "ExecuteTime": {
     "end_time": "2022-04-26T23:50:36.006852Z",
     "start_time": "2022-04-26T23:50:34.484036Z"
    }
   },
   "outputs": [],
   "source": [
    "import numpy as np\n",
    "import pandas as pd\n",
    "import matplotlib.pyplot as plt\n",
    "import seaborn as sns"
   ]
  },
  {
   "cell_type": "code",
   "execution_count": 2,
   "id": "bd1c8107",
   "metadata": {
    "ExecuteTime": {
     "end_time": "2022-04-26T23:50:36.021301Z",
     "start_time": "2022-04-26T23:50:36.007890Z"
    }
   },
   "outputs": [
    {
     "data": {
      "text/html": [
       "<div>\n",
       "<style scoped>\n",
       "    .dataframe tbody tr th:only-of-type {\n",
       "        vertical-align: middle;\n",
       "    }\n",
       "\n",
       "    .dataframe tbody tr th {\n",
       "        vertical-align: top;\n",
       "    }\n",
       "\n",
       "    .dataframe thead th {\n",
       "        text-align: right;\n",
       "    }\n",
       "</style>\n",
       "<table border=\"1\" class=\"dataframe\">\n",
       "  <thead>\n",
       "    <tr style=\"text-align: right;\">\n",
       "      <th></th>\n",
       "      <th>pclass</th>\n",
       "      <th>survived</th>\n",
       "      <th>name</th>\n",
       "      <th>sex</th>\n",
       "      <th>age</th>\n",
       "      <th>sibsp</th>\n",
       "      <th>parch</th>\n",
       "      <th>ticket</th>\n",
       "      <th>fare</th>\n",
       "      <th>cabin</th>\n",
       "      <th>embarked</th>\n",
       "      <th>boat</th>\n",
       "      <th>body</th>\n",
       "      <th>home.dest</th>\n",
       "    </tr>\n",
       "  </thead>\n",
       "  <tbody>\n",
       "    <tr>\n",
       "      <th>0</th>\n",
       "      <td>1</td>\n",
       "      <td>1</td>\n",
       "      <td>Allen, Miss. Elisabeth Walton</td>\n",
       "      <td>female</td>\n",
       "      <td>29.00</td>\n",
       "      <td>0</td>\n",
       "      <td>0</td>\n",
       "      <td>24160</td>\n",
       "      <td>211.3375</td>\n",
       "      <td>B5</td>\n",
       "      <td>S</td>\n",
       "      <td>2</td>\n",
       "      <td>NaN</td>\n",
       "      <td>St Louis, MO</td>\n",
       "    </tr>\n",
       "    <tr>\n",
       "      <th>1</th>\n",
       "      <td>1</td>\n",
       "      <td>1</td>\n",
       "      <td>Allison, Master. Hudson Trevor</td>\n",
       "      <td>male</td>\n",
       "      <td>0.92</td>\n",
       "      <td>1</td>\n",
       "      <td>2</td>\n",
       "      <td>113781</td>\n",
       "      <td>151.5500</td>\n",
       "      <td>C22 C26</td>\n",
       "      <td>S</td>\n",
       "      <td>11</td>\n",
       "      <td>NaN</td>\n",
       "      <td>Montreal, PQ / Chesterville, ON</td>\n",
       "    </tr>\n",
       "    <tr>\n",
       "      <th>2</th>\n",
       "      <td>1</td>\n",
       "      <td>0</td>\n",
       "      <td>Allison, Miss. Helen Loraine</td>\n",
       "      <td>female</td>\n",
       "      <td>2.00</td>\n",
       "      <td>1</td>\n",
       "      <td>2</td>\n",
       "      <td>113781</td>\n",
       "      <td>151.5500</td>\n",
       "      <td>C22 C26</td>\n",
       "      <td>S</td>\n",
       "      <td>NaN</td>\n",
       "      <td>NaN</td>\n",
       "      <td>Montreal, PQ / Chesterville, ON</td>\n",
       "    </tr>\n",
       "    <tr>\n",
       "      <th>3</th>\n",
       "      <td>1</td>\n",
       "      <td>0</td>\n",
       "      <td>Allison, Mr. Hudson Joshua Creighton</td>\n",
       "      <td>male</td>\n",
       "      <td>30.00</td>\n",
       "      <td>1</td>\n",
       "      <td>2</td>\n",
       "      <td>113781</td>\n",
       "      <td>151.5500</td>\n",
       "      <td>C22 C26</td>\n",
       "      <td>S</td>\n",
       "      <td>NaN</td>\n",
       "      <td>135.0</td>\n",
       "      <td>Montreal, PQ / Chesterville, ON</td>\n",
       "    </tr>\n",
       "    <tr>\n",
       "      <th>4</th>\n",
       "      <td>1</td>\n",
       "      <td>0</td>\n",
       "      <td>Allison, Mrs. Hudson J C (Bessie Waldo Daniels)</td>\n",
       "      <td>female</td>\n",
       "      <td>25.00</td>\n",
       "      <td>1</td>\n",
       "      <td>2</td>\n",
       "      <td>113781</td>\n",
       "      <td>151.5500</td>\n",
       "      <td>C22 C26</td>\n",
       "      <td>S</td>\n",
       "      <td>NaN</td>\n",
       "      <td>NaN</td>\n",
       "      <td>Montreal, PQ / Chesterville, ON</td>\n",
       "    </tr>\n",
       "  </tbody>\n",
       "</table>\n",
       "</div>"
      ],
      "text/plain": [
       "   pclass  survived                                             name     sex  \\\n",
       "0       1         1                    Allen, Miss. Elisabeth Walton  female   \n",
       "1       1         1                   Allison, Master. Hudson Trevor    male   \n",
       "2       1         0                     Allison, Miss. Helen Loraine  female   \n",
       "3       1         0             Allison, Mr. Hudson Joshua Creighton    male   \n",
       "4       1         0  Allison, Mrs. Hudson J C (Bessie Waldo Daniels)  female   \n",
       "\n",
       "     age  sibsp  parch  ticket      fare    cabin embarked boat   body  \\\n",
       "0  29.00      0      0   24160  211.3375       B5        S    2    NaN   \n",
       "1   0.92      1      2  113781  151.5500  C22 C26        S   11    NaN   \n",
       "2   2.00      1      2  113781  151.5500  C22 C26        S  NaN    NaN   \n",
       "3  30.00      1      2  113781  151.5500  C22 C26        S  NaN  135.0   \n",
       "4  25.00      1      2  113781  151.5500  C22 C26        S  NaN    NaN   \n",
       "\n",
       "                         home.dest  \n",
       "0                     St Louis, MO  \n",
       "1  Montreal, PQ / Chesterville, ON  \n",
       "2  Montreal, PQ / Chesterville, ON  \n",
       "3  Montreal, PQ / Chesterville, ON  \n",
       "4  Montreal, PQ / Chesterville, ON  "
      ]
     },
     "execution_count": 2,
     "metadata": {},
     "output_type": "execute_result"
    }
   ],
   "source": [
    "df = pd.read_csv('titanic.csv')\n",
    "df.head()"
   ]
  },
  {
   "cell_type": "code",
   "execution_count": 3,
   "id": "d6b9e782",
   "metadata": {
    "ExecuteTime": {
     "end_time": "2022-04-26T23:50:37.033788Z",
     "start_time": "2022-04-26T23:50:37.011441Z"
    }
   },
   "outputs": [
    {
     "name": "stdout",
     "output_type": "stream",
     "text": [
      "<class 'pandas.core.frame.DataFrame'>\n",
      "RangeIndex: 1309 entries, 0 to 1308\n",
      "Data columns (total 14 columns):\n",
      " #   Column     Non-Null Count  Dtype  \n",
      "---  ------     --------------  -----  \n",
      " 0   pclass     1309 non-null   int64  \n",
      " 1   survived   1309 non-null   int64  \n",
      " 2   name       1309 non-null   object \n",
      " 3   sex        1309 non-null   object \n",
      " 4   age        1046 non-null   float64\n",
      " 5   sibsp      1309 non-null   int64  \n",
      " 6   parch      1309 non-null   int64  \n",
      " 7   ticket     1309 non-null   object \n",
      " 8   fare       1308 non-null   float64\n",
      " 9   cabin      295 non-null    object \n",
      " 10  embarked   1307 non-null   object \n",
      " 11  boat       486 non-null    object \n",
      " 12  body       121 non-null    float64\n",
      " 13  home.dest  745 non-null    object \n",
      "dtypes: float64(3), int64(4), object(7)\n",
      "memory usage: 143.3+ KB\n"
     ]
    }
   ],
   "source": [
    "df.info()"
   ]
  },
  {
   "cell_type": "code",
   "execution_count": 22,
   "id": "af395687",
   "metadata": {
    "ExecuteTime": {
     "end_time": "2022-04-26T01:13:35.125196Z",
     "start_time": "2022-04-26T01:13:35.098268Z"
    }
   },
   "outputs": [
    {
     "data": {
      "text/html": [
       "<div>\n",
       "<style scoped>\n",
       "    .dataframe tbody tr th:only-of-type {\n",
       "        vertical-align: middle;\n",
       "    }\n",
       "\n",
       "    .dataframe tbody tr th {\n",
       "        vertical-align: top;\n",
       "    }\n",
       "\n",
       "    .dataframe thead th {\n",
       "        text-align: right;\n",
       "    }\n",
       "</style>\n",
       "<table border=\"1\" class=\"dataframe\">\n",
       "  <thead>\n",
       "    <tr style=\"text-align: right;\">\n",
       "      <th></th>\n",
       "      <th>pclass</th>\n",
       "      <th>survived</th>\n",
       "      <th>age</th>\n",
       "      <th>sibsp</th>\n",
       "      <th>parch</th>\n",
       "      <th>fare</th>\n",
       "      <th>body</th>\n",
       "    </tr>\n",
       "  </thead>\n",
       "  <tbody>\n",
       "    <tr>\n",
       "      <th>count</th>\n",
       "      <td>1309.000000</td>\n",
       "      <td>1309.000000</td>\n",
       "      <td>1046.000000</td>\n",
       "      <td>1309.000000</td>\n",
       "      <td>1309.000000</td>\n",
       "      <td>1308.000000</td>\n",
       "      <td>121.000000</td>\n",
       "    </tr>\n",
       "    <tr>\n",
       "      <th>mean</th>\n",
       "      <td>2.294882</td>\n",
       "      <td>0.381971</td>\n",
       "      <td>29.881138</td>\n",
       "      <td>0.498854</td>\n",
       "      <td>0.385027</td>\n",
       "      <td>33.295479</td>\n",
       "      <td>160.809917</td>\n",
       "    </tr>\n",
       "    <tr>\n",
       "      <th>std</th>\n",
       "      <td>0.837836</td>\n",
       "      <td>0.486055</td>\n",
       "      <td>14.413493</td>\n",
       "      <td>1.041658</td>\n",
       "      <td>0.865560</td>\n",
       "      <td>51.758668</td>\n",
       "      <td>97.696922</td>\n",
       "    </tr>\n",
       "    <tr>\n",
       "      <th>min</th>\n",
       "      <td>1.000000</td>\n",
       "      <td>0.000000</td>\n",
       "      <td>0.170000</td>\n",
       "      <td>0.000000</td>\n",
       "      <td>0.000000</td>\n",
       "      <td>0.000000</td>\n",
       "      <td>1.000000</td>\n",
       "    </tr>\n",
       "    <tr>\n",
       "      <th>25%</th>\n",
       "      <td>2.000000</td>\n",
       "      <td>0.000000</td>\n",
       "      <td>21.000000</td>\n",
       "      <td>0.000000</td>\n",
       "      <td>0.000000</td>\n",
       "      <td>7.895800</td>\n",
       "      <td>72.000000</td>\n",
       "    </tr>\n",
       "    <tr>\n",
       "      <th>50%</th>\n",
       "      <td>3.000000</td>\n",
       "      <td>0.000000</td>\n",
       "      <td>28.000000</td>\n",
       "      <td>0.000000</td>\n",
       "      <td>0.000000</td>\n",
       "      <td>14.454200</td>\n",
       "      <td>155.000000</td>\n",
       "    </tr>\n",
       "    <tr>\n",
       "      <th>75%</th>\n",
       "      <td>3.000000</td>\n",
       "      <td>1.000000</td>\n",
       "      <td>39.000000</td>\n",
       "      <td>1.000000</td>\n",
       "      <td>0.000000</td>\n",
       "      <td>31.275000</td>\n",
       "      <td>256.000000</td>\n",
       "    </tr>\n",
       "    <tr>\n",
       "      <th>max</th>\n",
       "      <td>3.000000</td>\n",
       "      <td>1.000000</td>\n",
       "      <td>80.000000</td>\n",
       "      <td>8.000000</td>\n",
       "      <td>9.000000</td>\n",
       "      <td>512.329200</td>\n",
       "      <td>328.000000</td>\n",
       "    </tr>\n",
       "  </tbody>\n",
       "</table>\n",
       "</div>"
      ],
      "text/plain": [
       "            pclass     survived          age        sibsp        parch  \\\n",
       "count  1309.000000  1309.000000  1046.000000  1309.000000  1309.000000   \n",
       "mean      2.294882     0.381971    29.881138     0.498854     0.385027   \n",
       "std       0.837836     0.486055    14.413493     1.041658     0.865560   \n",
       "min       1.000000     0.000000     0.170000     0.000000     0.000000   \n",
       "25%       2.000000     0.000000    21.000000     0.000000     0.000000   \n",
       "50%       3.000000     0.000000    28.000000     0.000000     0.000000   \n",
       "75%       3.000000     1.000000    39.000000     1.000000     0.000000   \n",
       "max       3.000000     1.000000    80.000000     8.000000     9.000000   \n",
       "\n",
       "              fare        body  \n",
       "count  1308.000000  121.000000  \n",
       "mean     33.295479  160.809917  \n",
       "std      51.758668   97.696922  \n",
       "min       0.000000    1.000000  \n",
       "25%       7.895800   72.000000  \n",
       "50%      14.454200  155.000000  \n",
       "75%      31.275000  256.000000  \n",
       "max     512.329200  328.000000  "
      ]
     },
     "execution_count": 22,
     "metadata": {},
     "output_type": "execute_result"
    }
   ],
   "source": [
    "df.describe()"
   ]
  },
  {
   "cell_type": "markdown",
   "id": "25f0a23e",
   "metadata": {},
   "source": [
    "- 나이를 비롯한 몇 가지 데이터의 결측치가 존재"
   ]
  },
  {
   "cell_type": "markdown",
   "id": "dcde54cc",
   "metadata": {},
   "source": [
    "# 데이터 전처리"
   ]
  },
  {
   "cell_type": "markdown",
   "id": "19c6970d",
   "metadata": {},
   "source": [
    "- 나이 데이터 결측치를 평균값으로 전처리"
   ]
  },
  {
   "cell_type": "code",
   "execution_count": 33,
   "id": "6f19bf42",
   "metadata": {
    "ExecuteTime": {
     "end_time": "2022-04-26T01:34:13.589235Z",
     "start_time": "2022-04-26T01:34:13.585362Z"
    }
   },
   "outputs": [],
   "source": [
    "df['age'] = df['age'].fillna(29.881138)"
   ]
  },
  {
   "cell_type": "markdown",
   "id": "7c236926",
   "metadata": {},
   "source": [
    "# 데이터 분석"
   ]
  },
  {
   "cell_type": "markdown",
   "id": "87633043",
   "metadata": {},
   "source": [
    "## 성별, 나이, 객실 등급으로 분류"
   ]
  },
  {
   "cell_type": "code",
   "execution_count": 76,
   "id": "e2ae9f82",
   "metadata": {
    "ExecuteTime": {
     "end_time": "2022-04-26T02:17:38.134981Z",
     "start_time": "2022-04-26T02:17:38.110348Z"
    }
   },
   "outputs": [
    {
     "data": {
      "text/html": [
       "<div>\n",
       "<style scoped>\n",
       "    .dataframe tbody tr th:only-of-type {\n",
       "        vertical-align: middle;\n",
       "    }\n",
       "\n",
       "    .dataframe tbody tr th {\n",
       "        vertical-align: top;\n",
       "    }\n",
       "\n",
       "    .dataframe thead tr th {\n",
       "        text-align: left;\n",
       "    }\n",
       "\n",
       "    .dataframe thead tr:last-of-type th {\n",
       "        text-align: right;\n",
       "    }\n",
       "</style>\n",
       "<table border=\"1\" class=\"dataframe\">\n",
       "  <thead>\n",
       "    <tr>\n",
       "      <th></th>\n",
       "      <th colspan=\"3\" halign=\"left\">age</th>\n",
       "      <th colspan=\"3\" halign=\"left\">survived</th>\n",
       "    </tr>\n",
       "    <tr>\n",
       "      <th></th>\n",
       "      <th>count</th>\n",
       "      <th>mean</th>\n",
       "      <th>sum</th>\n",
       "      <th>count</th>\n",
       "      <th>mean</th>\n",
       "      <th>sum</th>\n",
       "    </tr>\n",
       "    <tr>\n",
       "      <th>sex</th>\n",
       "      <th></th>\n",
       "      <th></th>\n",
       "      <th></th>\n",
       "      <th></th>\n",
       "      <th></th>\n",
       "      <th></th>\n",
       "    </tr>\n",
       "  </thead>\n",
       "  <tbody>\n",
       "    <tr>\n",
       "      <th>female</th>\n",
       "      <td>466</td>\n",
       "      <td>28.886950</td>\n",
       "      <td>13461.318764</td>\n",
       "      <td>466</td>\n",
       "      <td>0.727468</td>\n",
       "      <td>339</td>\n",
       "    </tr>\n",
       "    <tr>\n",
       "      <th>male</th>\n",
       "      <td>843</td>\n",
       "      <td>30.430712</td>\n",
       "      <td>25653.090530</td>\n",
       "      <td>843</td>\n",
       "      <td>0.190985</td>\n",
       "      <td>161</td>\n",
       "    </tr>\n",
       "  </tbody>\n",
       "</table>\n",
       "</div>"
      ],
      "text/plain": [
       "         age                          survived               \n",
       "       count       mean           sum    count      mean  sum\n",
       "sex                                                          \n",
       "female   466  28.886950  13461.318764      466  0.727468  339\n",
       "male     843  30.430712  25653.090530      843  0.190985  161"
      ]
     },
     "execution_count": 76,
     "metadata": {},
     "output_type": "execute_result"
    }
   ],
   "source": [
    "df.pivot_table(\n",
    "    values=['survived','age'],\n",
    "    index=['sex'],\n",
    "    aggfunc = ('count','sum','mean')\n",
    ")"
   ]
  },
  {
   "cell_type": "code",
   "execution_count": 73,
   "id": "044c0735",
   "metadata": {
    "ExecuteTime": {
     "end_time": "2022-04-26T02:16:41.329474Z",
     "start_time": "2022-04-26T02:16:41.300844Z"
    }
   },
   "outputs": [
    {
     "data": {
      "text/html": [
       "<div>\n",
       "<style scoped>\n",
       "    .dataframe tbody tr th:only-of-type {\n",
       "        vertical-align: middle;\n",
       "    }\n",
       "\n",
       "    .dataframe tbody tr th {\n",
       "        vertical-align: top;\n",
       "    }\n",
       "\n",
       "    .dataframe thead tr th {\n",
       "        text-align: left;\n",
       "    }\n",
       "\n",
       "    .dataframe thead tr:last-of-type th {\n",
       "        text-align: right;\n",
       "    }\n",
       "</style>\n",
       "<table border=\"1\" class=\"dataframe\">\n",
       "  <thead>\n",
       "    <tr>\n",
       "      <th></th>\n",
       "      <th></th>\n",
       "      <th colspan=\"3\" halign=\"left\">age</th>\n",
       "      <th colspan=\"3\" halign=\"left\">survived</th>\n",
       "    </tr>\n",
       "    <tr>\n",
       "      <th></th>\n",
       "      <th></th>\n",
       "      <th>count</th>\n",
       "      <th>mean</th>\n",
       "      <th>sum</th>\n",
       "      <th>count</th>\n",
       "      <th>mean</th>\n",
       "      <th>sum</th>\n",
       "    </tr>\n",
       "    <tr>\n",
       "      <th>sex</th>\n",
       "      <th>pclass</th>\n",
       "      <th></th>\n",
       "      <th></th>\n",
       "      <th></th>\n",
       "      <th></th>\n",
       "      <th></th>\n",
       "      <th></th>\n",
       "    </tr>\n",
       "  </thead>\n",
       "  <tbody>\n",
       "    <tr>\n",
       "      <th rowspan=\"3\" valign=\"top\">female</th>\n",
       "      <th>1</th>\n",
       "      <td>144</td>\n",
       "      <td>36.490920</td>\n",
       "      <td>5254.692518</td>\n",
       "      <td>144</td>\n",
       "      <td>0.965278</td>\n",
       "      <td>139</td>\n",
       "    </tr>\n",
       "    <tr>\n",
       "      <th>2</th>\n",
       "      <td>106</td>\n",
       "      <td>27.566636</td>\n",
       "      <td>2922.063414</td>\n",
       "      <td>106</td>\n",
       "      <td>0.886792</td>\n",
       "      <td>94</td>\n",
       "    </tr>\n",
       "    <tr>\n",
       "      <th>3</th>\n",
       "      <td>216</td>\n",
       "      <td>24.465569</td>\n",
       "      <td>5284.562832</td>\n",
       "      <td>216</td>\n",
       "      <td>0.490741</td>\n",
       "      <td>106</td>\n",
       "    </tr>\n",
       "    <tr>\n",
       "      <th rowspan=\"3\" valign=\"top\">male</th>\n",
       "      <th>1</th>\n",
       "      <td>179</td>\n",
       "      <td>39.285429</td>\n",
       "      <td>7032.091864</td>\n",
       "      <td>179</td>\n",
       "      <td>0.340782</td>\n",
       "      <td>61</td>\n",
       "    </tr>\n",
       "    <tr>\n",
       "      <th>2</th>\n",
       "      <td>171</td>\n",
       "      <td>30.744356</td>\n",
       "      <td>5257.284794</td>\n",
       "      <td>171</td>\n",
       "      <td>0.146199</td>\n",
       "      <td>25</td>\n",
       "    </tr>\n",
       "    <tr>\n",
       "      <th>3</th>\n",
       "      <td>493</td>\n",
       "      <td>27.106925</td>\n",
       "      <td>13363.713872</td>\n",
       "      <td>493</td>\n",
       "      <td>0.152130</td>\n",
       "      <td>75</td>\n",
       "    </tr>\n",
       "  </tbody>\n",
       "</table>\n",
       "</div>"
      ],
      "text/plain": [
       "                age                          survived               \n",
       "              count       mean           sum    count      mean  sum\n",
       "sex    pclass                                                       \n",
       "female 1        144  36.490920   5254.692518      144  0.965278  139\n",
       "       2        106  27.566636   2922.063414      106  0.886792   94\n",
       "       3        216  24.465569   5284.562832      216  0.490741  106\n",
       "male   1        179  39.285429   7032.091864      179  0.340782   61\n",
       "       2        171  30.744356   5257.284794      171  0.146199   25\n",
       "       3        493  27.106925  13363.713872      493  0.152130   75"
      ]
     },
     "execution_count": 73,
     "metadata": {},
     "output_type": "execute_result"
    }
   ],
   "source": [
    "df.pivot_table(\n",
    "    values=['survived','age'],\n",
    "    index=('sex','pclass'),\n",
    "    aggfunc = ('count','sum','mean')\n",
    ")"
   ]
  },
  {
   "cell_type": "code",
   "execution_count": 99,
   "id": "b362e44d",
   "metadata": {
    "ExecuteTime": {
     "end_time": "2022-04-27T00:52:59.823757Z",
     "start_time": "2022-04-27T00:52:59.110667Z"
    }
   },
   "outputs": [
    {
     "data": {
      "image/png": "[encoded data removed]",
      "text/plain": [
       "<Figure size 1080x360 with 2 Axes>"
      ]
     },
     "metadata": {
      "needs_background": "light"
     },
     "output_type": "display_data"
    }
   ],
   "source": [
    "sns.set_palette('Set2')\n",
    "plt.figure(figsize = (15,5))\n",
    "\n",
    "# 성별과 등급별 생존률\n",
    "plt.subplot(1,2,1)\n",
    "sns.barplot(data=df, x='sex', y='survived', hue='pclass')\n",
    "\n",
    "# 연령대별 생존률\n",
    "plt.subplot(1,2,2)\n",
    "sns.lineplot(data=df, x='age', y='survived')\n",
    "plt.show()"
   ]
  },
  {
   "cell_type": "markdown",
   "id": "21883c81",
   "metadata": {},
   "source": [
    "- 남성 생존률 = 19%, 여성 생존률 = 72.7%로 여성 생존률이 높으며, 남녀 각각 모두 높은 등급의 객실 생존률이 높았다.\n",
    "- 나이가 어리거나 많을수록 생존률이 높았다."
   ]
  },
  {
   "cell_type": "markdown",
   "id": "1030689d",
   "metadata": {},
   "source": [
    "## 여성의 결혼 여부에 따른 생존률 분석"
   ]
  },
  {
   "cell_type": "markdown",
   "id": "a21ee9c9",
   "metadata": {},
   "source": [
    "- 여성의 생존률이 월등히 높으므로 , 여성의 결혼 여부에 따른 생존률 분석"
   ]
  },
  {
   "cell_type": "code",
   "execution_count": 100,
   "id": "91ef5504",
   "metadata": {
    "ExecuteTime": {
     "end_time": "2022-04-27T00:53:03.190834Z",
     "start_time": "2022-04-27T00:53:03.183466Z"
    }
   },
   "outputs": [],
   "source": [
    "df_miss = df[df['name'].str.contains('Miss')]\n",
    "df_mrs = df[df['name'].str.contains('Mrs')]"
   ]
  },
  {
   "cell_type": "code",
   "execution_count": 101,
   "id": "d97cbd15",
   "metadata": {
    "ExecuteTime": {
     "end_time": "2022-04-27T00:53:03.456553Z",
     "start_time": "2022-04-27T00:53:03.448690Z"
    }
   },
   "outputs": [
    {
     "data": {
      "text/plain": [
       "0.676923076923077"
      ]
     },
     "execution_count": 101,
     "metadata": {},
     "output_type": "execute_result"
    }
   ],
   "source": [
    "df_miss['survived'].mean()"
   ]
  },
  {
   "cell_type": "code",
   "execution_count": 102,
   "id": "9a750564",
   "metadata": {
    "ExecuteTime": {
     "end_time": "2022-04-27T00:53:03.706158Z",
     "start_time": "2022-04-27T00:53:03.697386Z"
    }
   },
   "outputs": [
    {
     "data": {
      "text/plain": [
       "0.7860696517412935"
      ]
     },
     "execution_count": 102,
     "metadata": {},
     "output_type": "execute_result"
    }
   ],
   "source": [
    "df_mrs['survived'].mean()"
   ]
  },
  {
   "cell_type": "code",
   "execution_count": 103,
   "id": "73b149c0",
   "metadata": {
    "ExecuteTime": {
     "end_time": "2022-04-27T00:53:04.352491Z",
     "start_time": "2022-04-27T00:53:04.196388Z"
    }
   },
   "outputs": [
    {
     "data": {
      "image/png": "[encoded data removed]",
      "text/plain": [
       "<Figure size 1080x360 with 2 Axes>"
      ]
     },
     "metadata": {
      "needs_background": "light"
     },
     "output_type": "display_data"
    }
   ],
   "source": [
    "# 여성 기혼 여부에 따른 등급별 생존률\n",
    "\n",
    "# 미혼여성\n",
    "plt.figure(figsize = (15,5))\n",
    "plt.subplot(1,2,1)\n",
    "plt.title('Miss')\n",
    "sns.barplot(data=df_miss, x='pclass', y='survived')\n",
    "\n",
    "# 기혼여성\n",
    "plt.subplot(1,2,2)\n",
    "plt.title('Mrs')\n",
    "sns.barplot(data=df_mrs, x='pclass', y='survived')\n",
    "plt.show()"
   ]
  },
  {
   "cell_type": "markdown",
   "id": "02727fb3",
   "metadata": {},
   "source": [
    "- 미혼 여성 생존률 67.6%, 기혼 여성 생존률 78.6% 으로 기혼 여성 생존률이 더 높았다\n",
    "- 기혼, 미혼 여성 모두 1,2등급 객실 생존률이 높았고, 3등급은 낮았다"
   ]
  },
  {
   "cell_type": "markdown",
   "id": "57ba4465",
   "metadata": {},
   "source": [
    "## 선착장에 따른 생존률 분석"
   ]
  },
  {
   "cell_type": "code",
   "execution_count": 121,
   "id": "bdd74eea",
   "metadata": {
    "ExecuteTime": {
     "end_time": "2022-04-27T01:01:11.998324Z",
     "start_time": "2022-04-27T01:01:11.956991Z"
    }
   },
   "outputs": [
    {
     "data": {
      "text/html": [
       "<div>\n",
       "<style scoped>\n",
       "    .dataframe tbody tr th:only-of-type {\n",
       "        vertical-align: middle;\n",
       "    }\n",
       "\n",
       "    .dataframe tbody tr th {\n",
       "        vertical-align: top;\n",
       "    }\n",
       "\n",
       "    .dataframe thead tr th {\n",
       "        text-align: left;\n",
       "    }\n",
       "\n",
       "    .dataframe thead tr:last-of-type th {\n",
       "        text-align: right;\n",
       "    }\n",
       "</style>\n",
       "<table border=\"1\" class=\"dataframe\">\n",
       "  <thead>\n",
       "    <tr>\n",
       "      <th></th>\n",
       "      <th colspan=\"9\" halign=\"left\">count</th>\n",
       "      <th colspan=\"9\" halign=\"left\">mean</th>\n",
       "    </tr>\n",
       "    <tr>\n",
       "      <th></th>\n",
       "      <th colspan=\"9\" halign=\"left\">survived</th>\n",
       "      <th colspan=\"9\" halign=\"left\">survived</th>\n",
       "    </tr>\n",
       "    <tr>\n",
       "      <th>embarked</th>\n",
       "      <th colspan=\"3\" halign=\"left\">C</th>\n",
       "      <th colspan=\"3\" halign=\"left\">Q</th>\n",
       "      <th colspan=\"3\" halign=\"left\">S</th>\n",
       "      <th colspan=\"3\" halign=\"left\">C</th>\n",
       "      <th colspan=\"3\" halign=\"left\">Q</th>\n",
       "      <th colspan=\"3\" halign=\"left\">S</th>\n",
       "    </tr>\n",
       "    <tr>\n",
       "      <th>pclass</th>\n",
       "      <th>1</th>\n",
       "      <th>2</th>\n",
       "      <th>3</th>\n",
       "      <th>1</th>\n",
       "      <th>2</th>\n",
       "      <th>3</th>\n",
       "      <th>1</th>\n",
       "      <th>2</th>\n",
       "      <th>3</th>\n",
       "      <th>1</th>\n",
       "      <th>2</th>\n",
       "      <th>3</th>\n",
       "      <th>1</th>\n",
       "      <th>2</th>\n",
       "      <th>3</th>\n",
       "      <th>1</th>\n",
       "      <th>2</th>\n",
       "      <th>3</th>\n",
       "    </tr>\n",
       "    <tr>\n",
       "      <th>sex</th>\n",
       "      <th></th>\n",
       "      <th></th>\n",
       "      <th></th>\n",
       "      <th></th>\n",
       "      <th></th>\n",
       "      <th></th>\n",
       "      <th></th>\n",
       "      <th></th>\n",
       "      <th></th>\n",
       "      <th></th>\n",
       "      <th></th>\n",
       "      <th></th>\n",
       "      <th></th>\n",
       "      <th></th>\n",
       "      <th></th>\n",
       "      <th></th>\n",
       "      <th></th>\n",
       "      <th></th>\n",
       "    </tr>\n",
       "  </thead>\n",
       "  <tbody>\n",
       "    <tr>\n",
       "      <th>female</th>\n",
       "      <td>71</td>\n",
       "      <td>11</td>\n",
       "      <td>31</td>\n",
       "      <td>2</td>\n",
       "      <td>2</td>\n",
       "      <td>56</td>\n",
       "      <td>69</td>\n",
       "      <td>93</td>\n",
       "      <td>129</td>\n",
       "      <td>0.971831</td>\n",
       "      <td>1.000000</td>\n",
       "      <td>0.709677</td>\n",
       "      <td>1.0</td>\n",
       "      <td>1.0</td>\n",
       "      <td>0.589286</td>\n",
       "      <td>0.956522</td>\n",
       "      <td>0.870968</td>\n",
       "      <td>0.395349</td>\n",
       "    </tr>\n",
       "    <tr>\n",
       "      <th>male</th>\n",
       "      <td>70</td>\n",
       "      <td>17</td>\n",
       "      <td>70</td>\n",
       "      <td>1</td>\n",
       "      <td>5</td>\n",
       "      <td>57</td>\n",
       "      <td>108</td>\n",
       "      <td>149</td>\n",
       "      <td>366</td>\n",
       "      <td>0.400000</td>\n",
       "      <td>0.294118</td>\n",
       "      <td>0.214286</td>\n",
       "      <td>0.0</td>\n",
       "      <td>0.0</td>\n",
       "      <td>0.122807</td>\n",
       "      <td>0.305556</td>\n",
       "      <td>0.134228</td>\n",
       "      <td>0.144809</td>\n",
       "    </tr>\n",
       "  </tbody>\n",
       "</table>\n",
       "</div>"
      ],
      "text/plain": [
       "            count                                       mean            \\\n",
       "         survived                                   survived             \n",
       "embarked        C          Q           S                   C             \n",
       "pclass          1   2   3  1  2   3    1    2    3         1         2   \n",
       "sex                                                                      \n",
       "female         71  11  31  2  2  56   69   93  129  0.971831  1.000000   \n",
       "male           70  17  70  1  5  57  108  149  366  0.400000  0.294118   \n",
       "\n",
       "                                                                      \n",
       "                                                                      \n",
       "embarked              Q                        S                      \n",
       "pclass           3    1    2         3         1         2         3  \n",
       "sex                                                                   \n",
       "female    0.709677  1.0  1.0  0.589286  0.956522  0.870968  0.395349  \n",
       "male      0.214286  0.0  0.0  0.122807  0.305556  0.134228  0.144809  "
      ]
     },
     "execution_count": 121,
     "metadata": {},
     "output_type": "execute_result"
    }
   ],
   "source": [
    "df.pivot_table(\n",
    "    values=['survived'],\n",
    "    index='sex',\n",
    "    columns=['embarked','pclass'],\n",
    "    aggfunc=['count','mean'])"
   ]
  },
  {
   "cell_type": "code",
   "execution_count": 151,
   "id": "2506013e",
   "metadata": {
    "ExecuteTime": {
     "end_time": "2022-04-27T01:26:14.587483Z",
     "start_time": "2022-04-27T01:26:14.360187Z"
    }
   },
   "outputs": [
    {
     "data": {
      "image/png": "[encoded data removed]",
      "text/plain": [
       "<Figure size 1080x360 with 2 Axes>"
      ]
     },
     "metadata": {
      "needs_background": "light"
     },
     "output_type": "display_data"
    }
   ],
   "source": [
    "# 요금 결측치 1건 평균값으로 저장\n",
    "df['fare'].fillna(33.295479)\n",
    "\n",
    "plt.figure(figsize=(15,5))\n",
    "\n",
    "# 선착장과 요금의 관계\n",
    "plt.subplot(1,2,1)\n",
    "sns.barplot(data=df , y='fare', x='embarked', hue='sex')\n",
    "\n",
    "# 선착장과 생존률\n",
    "plt.subplot(1,2,2)\n",
    "sns.barplot(data=df ,  y='survived', x='embarked', hue='sex')\n",
    "plt.show()"
   ]
  },
  {
   "cell_type": "code",
   "execution_count": 148,
   "id": "8aa779d8",
   "metadata": {
    "ExecuteTime": {
     "end_time": "2022-04-27T01:22:08.767448Z",
     "start_time": "2022-04-27T01:22:08.619308Z"
    }
   },
   "outputs": [
    {
     "data": {
      "image/png": "[encoded data removed]",
      "text/plain": [
       "<Figure size 1080x360 with 2 Axes>"
      ]
     },
     "metadata": {
      "needs_background": "light"
     },
     "output_type": "display_data"
    }
   ],
   "source": [
    "# 여성의 선착장 별 인원\n",
    "\n",
    "# 미혼여성\n",
    "plt.figure(figsize = (15,5))\n",
    "plt.subplot(1,2,1)\n",
    "plt.title('Miss')\n",
    "sns.histplot(data=df_miss, x='embarked', hue='pclass', multiple='stack')\n",
    "\n",
    "# 기혼여성\n",
    "plt.subplot(1,2,2)\n",
    "plt.title('Mrs')\n",
    "sns.histplot(data=df_mrs, x='embarked', hue='pclass', multiple='stack')\n",
    "plt.show()"
   ]
  },
  {
   "cell_type": "markdown",
   "id": "5a2453f6",
   "metadata": {},
   "source": [
    "- C 선착장이 대부분 표값이 비싸며 1등석 비율이 높았다\n",
    "- 기혼 여성이 대부분 미혼 여성보다 부유하며 1,2등석 비율이 더 높았고, 미혼 여성은 3등석 비율이 높았다\n",
    "- 표 값과 객실등급 비율로 볼때 C -> S -> Q 순으로 부유층이 많은 도시로 볼수 있다"
   ]
  },
  {
   "cell_type": "markdown",
   "id": "b0df95f9",
   "metadata": {},
   "source": [
    "# 종합 결론 "
   ]
  },
  {
   "cell_type": "markdown",
   "id": "4f98423d",
   "metadata": {},
   "source": [
    "> 전체적으로 여성이 남성에 비해 월등히 생존률이 높았다 (남성 생존률 = 19%, 여성 생존률 = 72.7%)\n",
    "\n",
    "> 미혼 여성에 비해 기혼 여성의 생존률이 높았으며 (미혼 여성 생존률 = 67.6%, 기혼 여성 생존률 = 78.6%)  \n",
    "> 상위 등급 객실의 인원의 생존률의 높았다\n",
    "\n",
    "> C -> S -> Q 선착장 순으로 생존률이 높았다\n",
    "\n",
    "> 생존률엔 성별의 요소가 가장 크게 작용하고, 두번째 요소는 객실 등급이다.  \n",
    "> 1등석이 가장 많은 C 도시의 인원이 가장 많은 비율로 생존했으며, 3등석이 많은 Q 도시의 인원이 가장 많은 비율로 사망했다."
   ]
  }
 ],
 "metadata": {
  "kernelspec": {
   "display_name": "Python 3 (ipykernel)",
   "language": "python",
   "name": "python3"
  },
  "language_info": {
   "codemirror_mode": {
    "name": "ipython",
    "version": 3
   },
   "file_extension": ".py",
   "mimetype": "text/x-python",
   "name": "python",
   "nbconvert_exporter": "python",
   "pygments_lexer": "ipython3",
   "version": "3.8.13"
  },
  "toc": {
   "base_numbering": 1,
   "nav_menu": {},
   "number_sections": true,
   "sideBar": true,
   "skip_h1_title": false,
   "title_cell": "Table of Contents",
   "title_sidebar": "Contents",
   "toc_cell": false,
   "toc_position": {},
   "toc_section_display": true,
   "toc_window_display": false
  }
 },
 "nbformat": 4,
 "nbformat_minor": 5
}
