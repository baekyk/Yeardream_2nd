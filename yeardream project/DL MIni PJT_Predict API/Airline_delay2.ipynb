{
 "cells": [
  {
   "cell_type": "markdown",
   "metadata": {},
   "source": [
    "#### 참고 : tensorflow.keras 공식 문서 (Official API Docs) @ https://www.tensorflow.org/api_docs/python/tf/keras"
   ]
  },
  {
   "cell_type": "markdown",
   "metadata": {},
   "source": [
    "<br>\n",
    "\n",
    "## 1. Data loading & preprocessing"
   ]
  },
  {
   "cell_type": "code",
   "execution_count": 1,
   "metadata": {
    "ExecuteTime": {
     "end_time": "2022-07-11T16:00:54.831654Z",
     "start_time": "2022-07-11T16:00:54.818661Z"
    }
   },
   "outputs": [],
   "source": [
    "import pandas as pd\n",
    "import numpy as np\n",
    "import matplotlib.pyplot as plt"
   ]
  },
  {
   "cell_type": "code",
   "execution_count": 2,
   "metadata": {
    "ExecuteTime": {
     "end_time": "2022-07-11T16:00:55.045169Z",
     "start_time": "2022-07-11T16:00:54.831654Z"
    }
   },
   "outputs": [
    {
     "name": "stdout",
     "output_type": "stream",
     "text": [
      "   id Airline  Flight AirportFrom AirportTo  DayOfWeek  Time  Length  Delay\n",
      "0   1      CO     269         SFO       IAH          3    15     205      1\n",
      "1   2      US    1558         PHX       CLT          3    15     222      1\n",
      "2   3      AA    2400         LAX       DFW          3    20     165      1\n",
      "3   4      AA    2466         SFO       DFW          3    20     195      1\n",
      "4   5      AS     108         ANC       SEA          3    30     202      0\n",
      "(539383, 9)\n"
     ]
    }
   ],
   "source": [
    "df = pd.read_csv('Airline_delay\\data\\Airlines.csv')\n",
    "print(df.head())\n",
    "print(df.shape)"
   ]
  },
  {
   "cell_type": "code",
   "execution_count": 3,
   "metadata": {
    "ExecuteTime": {
     "end_time": "2022-07-11T16:00:55.075904Z",
     "start_time": "2022-07-11T16:00:55.045512Z"
    }
   },
   "outputs": [],
   "source": [
    "df = df.iloc[:,1:]"
   ]
  },
  {
   "cell_type": "code",
   "execution_count": 50,
   "metadata": {
    "ExecuteTime": {
     "end_time": "2022-07-11T16:00:55.106825Z",
     "start_time": "2022-07-11T16:00:55.075904Z"
    }
   },
   "outputs": [
    {
     "data": {
      "text/plain": [
       "array(['CO', 'US', 'AA', 'AS', 'DL', 'B6', 'HA', 'OO', '9E', 'OH', 'EV',\n",
       "       'XE', 'YV', 'UA', 'MQ', 'FL', 'F9', 'WN'], dtype=object)"
      ]
     },
     "execution_count": 50,
     "metadata": {},
     "output_type": "execute_result"
    }
   ],
   "source": [
    "df['Airline'].unique()"
   ]
  },
  {
   "cell_type": "code",
   "execution_count": 73,
   "metadata": {
    "ExecuteTime": {
     "end_time": "2022-07-11T16:00:55.137606Z",
     "start_time": "2022-07-11T16:00:55.107861Z"
    }
   },
   "outputs": [
    {
     "data": {
      "text/plain": [
       "293"
      ]
     },
     "execution_count": 73,
     "metadata": {},
     "output_type": "execute_result"
    }
   ],
   "source": [
    "len(df['AirportFrom'].unique())"
   ]
  },
  {
   "cell_type": "code",
   "execution_count": 6,
   "metadata": {
    "ExecuteTime": {
     "end_time": "2022-07-11T16:00:55.167988Z",
     "start_time": "2022-07-11T16:00:55.139102Z"
    }
   },
   "outputs": [],
   "source": [
    "# from sklearn.preprocessing import LabelEncoder"
   ]
  },
  {
   "cell_type": "code",
   "execution_count": 7,
   "metadata": {
    "ExecuteTime": {
     "end_time": "2022-07-11T16:00:55.413742Z",
     "start_time": "2022-07-11T16:00:55.184216Z"
    }
   },
   "outputs": [],
   "source": [
    "# le_1 = LabelEncoder()\n",
    "# le_encoder_1 = le_1.fit(df.loc[:,'Airline'])\n",
    "# df.loc[:,'Airline'] = le_encoder_1.transform(df.loc[:,'Airline'])\n",
    "# le_2 = LabelEncoder()\n",
    "# le_encoder_2 = le_2.fit(df.loc[:,'AirportFrom'])\n",
    "# df.loc[:,'AirportFrom'] = le_encoder_2.transform(df.loc[:,'AirportFrom'])\n",
    "# le_3 = LabelEncoder()\n",
    "# le_encoder_3 = le_3.fit(df.loc[:,'AirportTo'])\n",
    "# df.loc[:,'AirportTo'] = le_encoder_3.transform(df.loc[:,'AirportTo'])"
   ]
  },
  {
   "cell_type": "code",
   "execution_count": 8,
   "metadata": {},
   "outputs": [
    {
     "data": {
      "text/html": [
       "<div>\n",
       "<style scoped>\n",
       "    .dataframe tbody tr th:only-of-type {\n",
       "        vertical-align: middle;\n",
       "    }\n",
       "\n",
       "    .dataframe tbody tr th {\n",
       "        vertical-align: top;\n",
       "    }\n",
       "\n",
       "    .dataframe thead th {\n",
       "        text-align: right;\n",
       "    }\n",
       "</style>\n",
       "<table border=\"1\" class=\"dataframe\">\n",
       "  <thead>\n",
       "    <tr style=\"text-align: right;\">\n",
       "      <th></th>\n",
       "      <th>Airline</th>\n",
       "      <th>Flight</th>\n",
       "      <th>AirportFrom</th>\n",
       "      <th>AirportTo</th>\n",
       "      <th>DayOfWeek</th>\n",
       "      <th>Time</th>\n",
       "      <th>Length</th>\n",
       "      <th>Delay</th>\n",
       "    </tr>\n",
       "  </thead>\n",
       "  <tbody>\n",
       "    <tr>\n",
       "      <th>0</th>\n",
       "      <td>CO</td>\n",
       "      <td>269</td>\n",
       "      <td>SFO</td>\n",
       "      <td>IAH</td>\n",
       "      <td>3</td>\n",
       "      <td>15</td>\n",
       "      <td>205</td>\n",
       "      <td>1</td>\n",
       "    </tr>\n",
       "    <tr>\n",
       "      <th>1</th>\n",
       "      <td>US</td>\n",
       "      <td>1558</td>\n",
       "      <td>PHX</td>\n",
       "      <td>CLT</td>\n",
       "      <td>3</td>\n",
       "      <td>15</td>\n",
       "      <td>222</td>\n",
       "      <td>1</td>\n",
       "    </tr>\n",
       "    <tr>\n",
       "      <th>2</th>\n",
       "      <td>AA</td>\n",
       "      <td>2400</td>\n",
       "      <td>LAX</td>\n",
       "      <td>DFW</td>\n",
       "      <td>3</td>\n",
       "      <td>20</td>\n",
       "      <td>165</td>\n",
       "      <td>1</td>\n",
       "    </tr>\n",
       "    <tr>\n",
       "      <th>3</th>\n",
       "      <td>AA</td>\n",
       "      <td>2466</td>\n",
       "      <td>SFO</td>\n",
       "      <td>DFW</td>\n",
       "      <td>3</td>\n",
       "      <td>20</td>\n",
       "      <td>195</td>\n",
       "      <td>1</td>\n",
       "    </tr>\n",
       "    <tr>\n",
       "      <th>4</th>\n",
       "      <td>AS</td>\n",
       "      <td>108</td>\n",
       "      <td>ANC</td>\n",
       "      <td>SEA</td>\n",
       "      <td>3</td>\n",
       "      <td>30</td>\n",
       "      <td>202</td>\n",
       "      <td>0</td>\n",
       "    </tr>\n",
       "    <tr>\n",
       "      <th>...</th>\n",
       "      <td>...</td>\n",
       "      <td>...</td>\n",
       "      <td>...</td>\n",
       "      <td>...</td>\n",
       "      <td>...</td>\n",
       "      <td>...</td>\n",
       "      <td>...</td>\n",
       "      <td>...</td>\n",
       "    </tr>\n",
       "    <tr>\n",
       "      <th>539378</th>\n",
       "      <td>CO</td>\n",
       "      <td>178</td>\n",
       "      <td>OGG</td>\n",
       "      <td>SNA</td>\n",
       "      <td>5</td>\n",
       "      <td>1439</td>\n",
       "      <td>326</td>\n",
       "      <td>0</td>\n",
       "    </tr>\n",
       "    <tr>\n",
       "      <th>539379</th>\n",
       "      <td>FL</td>\n",
       "      <td>398</td>\n",
       "      <td>SEA</td>\n",
       "      <td>ATL</td>\n",
       "      <td>5</td>\n",
       "      <td>1439</td>\n",
       "      <td>305</td>\n",
       "      <td>0</td>\n",
       "    </tr>\n",
       "    <tr>\n",
       "      <th>539380</th>\n",
       "      <td>FL</td>\n",
       "      <td>609</td>\n",
       "      <td>SFO</td>\n",
       "      <td>MKE</td>\n",
       "      <td>5</td>\n",
       "      <td>1439</td>\n",
       "      <td>255</td>\n",
       "      <td>0</td>\n",
       "    </tr>\n",
       "    <tr>\n",
       "      <th>539381</th>\n",
       "      <td>UA</td>\n",
       "      <td>78</td>\n",
       "      <td>HNL</td>\n",
       "      <td>SFO</td>\n",
       "      <td>5</td>\n",
       "      <td>1439</td>\n",
       "      <td>313</td>\n",
       "      <td>1</td>\n",
       "    </tr>\n",
       "    <tr>\n",
       "      <th>539382</th>\n",
       "      <td>US</td>\n",
       "      <td>1442</td>\n",
       "      <td>LAX</td>\n",
       "      <td>PHL</td>\n",
       "      <td>5</td>\n",
       "      <td>1439</td>\n",
       "      <td>301</td>\n",
       "      <td>1</td>\n",
       "    </tr>\n",
       "  </tbody>\n",
       "</table>\n",
       "<p>539383 rows × 8 columns</p>\n",
       "</div>"
      ],
      "text/plain": [
       "       Airline  Flight AirportFrom AirportTo  DayOfWeek  Time  Length  Delay\n",
       "0           CO     269         SFO       IAH          3    15     205      1\n",
       "1           US    1558         PHX       CLT          3    15     222      1\n",
       "2           AA    2400         LAX       DFW          3    20     165      1\n",
       "3           AA    2466         SFO       DFW          3    20     195      1\n",
       "4           AS     108         ANC       SEA          3    30     202      0\n",
       "...        ...     ...         ...       ...        ...   ...     ...    ...\n",
       "539378      CO     178         OGG       SNA          5  1439     326      0\n",
       "539379      FL     398         SEA       ATL          5  1439     305      0\n",
       "539380      FL     609         SFO       MKE          5  1439     255      0\n",
       "539381      UA      78         HNL       SFO          5  1439     313      1\n",
       "539382      US    1442         LAX       PHL          5  1439     301      1\n",
       "\n",
       "[539383 rows x 8 columns]"
      ]
     },
     "execution_count": 8,
     "metadata": {},
     "output_type": "execute_result"
    }
   ],
   "source": [
    "df"
   ]
  },
  {
   "cell_type": "code",
   "execution_count": 9,
   "metadata": {},
   "outputs": [
    {
     "data": {
      "text/plain": [
       "293"
      ]
     },
     "execution_count": 9,
     "metadata": {},
     "output_type": "execute_result"
    }
   ],
   "source": [
    "df.loc[:,'AirportTo'].nunique()"
   ]
  },
  {
   "cell_type": "code",
   "execution_count": 10,
   "metadata": {},
   "outputs": [
    {
     "data": {
      "text/plain": [
       "293"
      ]
     },
     "execution_count": 10,
     "metadata": {},
     "output_type": "execute_result"
    }
   ],
   "source": [
    "df.loc[:,'AirportFrom'].nunique()"
   ]
  },
  {
   "cell_type": "code",
   "execution_count": 11,
   "metadata": {},
   "outputs": [],
   "source": [
    "from sklearn.preprocessing import OneHotEncoder"
   ]
  },
  {
   "cell_type": "code",
   "execution_count": 12,
   "metadata": {},
   "outputs": [],
   "source": [
    "OHE1 = OneHotEncoder(handle_unknown='ignore')\n",
    "OHE2 = OneHotEncoder(handle_unknown='ignore')\n",
    "OHE3 = OneHotEncoder(handle_unknown='ignore')"
   ]
  },
  {
   "cell_type": "code",
   "execution_count": 13,
   "metadata": {},
   "outputs": [],
   "source": [
    "enc1= OHE1.fit(df[['Airline']])\n",
    "enc2= OHE2.fit(df[['AirportFrom']])\n",
    "enc3= OHE3.fit(df[['AirportTo']])"
   ]
  },
  {
   "cell_type": "code",
   "execution_count": 14,
   "metadata": {},
   "outputs": [],
   "source": [
    "trans1 = enc1.transform(df[['Airline']])\n",
    "trans2 = enc2.transform(df[['AirportFrom']])\n",
    "trans3 = enc3.transform(df[['AirportTo']])"
   ]
  },
  {
   "cell_type": "code",
   "execution_count": 15,
   "metadata": {},
   "outputs": [],
   "source": [
    "con1 = pd.DataFrame(trans1.toarray(), columns=enc1.categories_[0])\n",
    "con2 = pd.DataFrame(trans2.toarray(), columns=enc2.categories_[0])\n",
    "con3 = pd.DataFrame(trans3.toarray(), columns=enc3.categories_[0])"
   ]
  },
  {
   "cell_type": "code",
   "execution_count": 16,
   "metadata": {},
   "outputs": [],
   "source": [
    "df = pd.concat([df,con1],axis=1)\n",
    "df = pd.concat([df,con2],axis=1)\n",
    "df = pd.concat([df,con3],axis=1)"
   ]
  },
  {
   "cell_type": "code",
   "execution_count": 17,
   "metadata": {},
   "outputs": [
    {
     "data": {
      "text/html": [
       "<div>\n",
       "<style scoped>\n",
       "    .dataframe tbody tr th:only-of-type {\n",
       "        vertical-align: middle;\n",
       "    }\n",
       "\n",
       "    .dataframe tbody tr th {\n",
       "        vertical-align: top;\n",
       "    }\n",
       "\n",
       "    .dataframe thead th {\n",
       "        text-align: right;\n",
       "    }\n",
       "</style>\n",
       "<table border=\"1\" class=\"dataframe\">\n",
       "  <thead>\n",
       "    <tr style=\"text-align: right;\">\n",
       "      <th></th>\n",
       "      <th>Airline</th>\n",
       "      <th>Flight</th>\n",
       "      <th>AirportFrom</th>\n",
       "      <th>AirportTo</th>\n",
       "      <th>DayOfWeek</th>\n",
       "      <th>Time</th>\n",
       "      <th>Length</th>\n",
       "      <th>Delay</th>\n",
       "      <th>9E</th>\n",
       "      <th>AA</th>\n",
       "      <th>...</th>\n",
       "      <th>TXK</th>\n",
       "      <th>TYR</th>\n",
       "      <th>TYS</th>\n",
       "      <th>UTM</th>\n",
       "      <th>VLD</th>\n",
       "      <th>VPS</th>\n",
       "      <th>WRG</th>\n",
       "      <th>XNA</th>\n",
       "      <th>YAK</th>\n",
       "      <th>YUM</th>\n",
       "    </tr>\n",
       "  </thead>\n",
       "  <tbody>\n",
       "    <tr>\n",
       "      <th>0</th>\n",
       "      <td>CO</td>\n",
       "      <td>269</td>\n",
       "      <td>SFO</td>\n",
       "      <td>IAH</td>\n",
       "      <td>3</td>\n",
       "      <td>15</td>\n",
       "      <td>205</td>\n",
       "      <td>1</td>\n",
       "      <td>0.0</td>\n",
       "      <td>0.0</td>\n",
       "      <td>...</td>\n",
       "      <td>0.0</td>\n",
       "      <td>0.0</td>\n",
       "      <td>0.0</td>\n",
       "      <td>0.0</td>\n",
       "      <td>0.0</td>\n",
       "      <td>0.0</td>\n",
       "      <td>0.0</td>\n",
       "      <td>0.0</td>\n",
       "      <td>0.0</td>\n",
       "      <td>0.0</td>\n",
       "    </tr>\n",
       "    <tr>\n",
       "      <th>1</th>\n",
       "      <td>US</td>\n",
       "      <td>1558</td>\n",
       "      <td>PHX</td>\n",
       "      <td>CLT</td>\n",
       "      <td>3</td>\n",
       "      <td>15</td>\n",
       "      <td>222</td>\n",
       "      <td>1</td>\n",
       "      <td>0.0</td>\n",
       "      <td>0.0</td>\n",
       "      <td>...</td>\n",
       "      <td>0.0</td>\n",
       "      <td>0.0</td>\n",
       "      <td>0.0</td>\n",
       "      <td>0.0</td>\n",
       "      <td>0.0</td>\n",
       "      <td>0.0</td>\n",
       "      <td>0.0</td>\n",
       "      <td>0.0</td>\n",
       "      <td>0.0</td>\n",
       "      <td>0.0</td>\n",
       "    </tr>\n",
       "    <tr>\n",
       "      <th>2</th>\n",
       "      <td>AA</td>\n",
       "      <td>2400</td>\n",
       "      <td>LAX</td>\n",
       "      <td>DFW</td>\n",
       "      <td>3</td>\n",
       "      <td>20</td>\n",
       "      <td>165</td>\n",
       "      <td>1</td>\n",
       "      <td>0.0</td>\n",
       "      <td>1.0</td>\n",
       "      <td>...</td>\n",
       "      <td>0.0</td>\n",
       "      <td>0.0</td>\n",
       "      <td>0.0</td>\n",
       "      <td>0.0</td>\n",
       "      <td>0.0</td>\n",
       "      <td>0.0</td>\n",
       "      <td>0.0</td>\n",
       "      <td>0.0</td>\n",
       "      <td>0.0</td>\n",
       "      <td>0.0</td>\n",
       "    </tr>\n",
       "    <tr>\n",
       "      <th>3</th>\n",
       "      <td>AA</td>\n",
       "      <td>2466</td>\n",
       "      <td>SFO</td>\n",
       "      <td>DFW</td>\n",
       "      <td>3</td>\n",
       "      <td>20</td>\n",
       "      <td>195</td>\n",
       "      <td>1</td>\n",
       "      <td>0.0</td>\n",
       "      <td>1.0</td>\n",
       "      <td>...</td>\n",
       "      <td>0.0</td>\n",
       "      <td>0.0</td>\n",
       "      <td>0.0</td>\n",
       "      <td>0.0</td>\n",
       "      <td>0.0</td>\n",
       "      <td>0.0</td>\n",
       "      <td>0.0</td>\n",
       "      <td>0.0</td>\n",
       "      <td>0.0</td>\n",
       "      <td>0.0</td>\n",
       "    </tr>\n",
       "    <tr>\n",
       "      <th>4</th>\n",
       "      <td>AS</td>\n",
       "      <td>108</td>\n",
       "      <td>ANC</td>\n",
       "      <td>SEA</td>\n",
       "      <td>3</td>\n",
       "      <td>30</td>\n",
       "      <td>202</td>\n",
       "      <td>0</td>\n",
       "      <td>0.0</td>\n",
       "      <td>0.0</td>\n",
       "      <td>...</td>\n",
       "      <td>0.0</td>\n",
       "      <td>0.0</td>\n",
       "      <td>0.0</td>\n",
       "      <td>0.0</td>\n",
       "      <td>0.0</td>\n",
       "      <td>0.0</td>\n",
       "      <td>0.0</td>\n",
       "      <td>0.0</td>\n",
       "      <td>0.0</td>\n",
       "      <td>0.0</td>\n",
       "    </tr>\n",
       "    <tr>\n",
       "      <th>...</th>\n",
       "      <td>...</td>\n",
       "      <td>...</td>\n",
       "      <td>...</td>\n",
       "      <td>...</td>\n",
       "      <td>...</td>\n",
       "      <td>...</td>\n",
       "      <td>...</td>\n",
       "      <td>...</td>\n",
       "      <td>...</td>\n",
       "      <td>...</td>\n",
       "      <td>...</td>\n",
       "      <td>...</td>\n",
       "      <td>...</td>\n",
       "      <td>...</td>\n",
       "      <td>...</td>\n",
       "      <td>...</td>\n",
       "      <td>...</td>\n",
       "      <td>...</td>\n",
       "      <td>...</td>\n",
       "      <td>...</td>\n",
       "      <td>...</td>\n",
       "    </tr>\n",
       "    <tr>\n",
       "      <th>539378</th>\n",
       "      <td>CO</td>\n",
       "      <td>178</td>\n",
       "      <td>OGG</td>\n",
       "      <td>SNA</td>\n",
       "      <td>5</td>\n",
       "      <td>1439</td>\n",
       "      <td>326</td>\n",
       "      <td>0</td>\n",
       "      <td>0.0</td>\n",
       "      <td>0.0</td>\n",
       "      <td>...</td>\n",
       "      <td>0.0</td>\n",
       "      <td>0.0</td>\n",
       "      <td>0.0</td>\n",
       "      <td>0.0</td>\n",
       "      <td>0.0</td>\n",
       "      <td>0.0</td>\n",
       "      <td>0.0</td>\n",
       "      <td>0.0</td>\n",
       "      <td>0.0</td>\n",
       "      <td>0.0</td>\n",
       "    </tr>\n",
       "    <tr>\n",
       "      <th>539379</th>\n",
       "      <td>FL</td>\n",
       "      <td>398</td>\n",
       "      <td>SEA</td>\n",
       "      <td>ATL</td>\n",
       "      <td>5</td>\n",
       "      <td>1439</td>\n",
       "      <td>305</td>\n",
       "      <td>0</td>\n",
       "      <td>0.0</td>\n",
       "      <td>0.0</td>\n",
       "      <td>...</td>\n",
       "      <td>0.0</td>\n",
       "      <td>0.0</td>\n",
       "      <td>0.0</td>\n",
       "      <td>0.0</td>\n",
       "      <td>0.0</td>\n",
       "      <td>0.0</td>\n",
       "      <td>0.0</td>\n",
       "      <td>0.0</td>\n",
       "      <td>0.0</td>\n",
       "      <td>0.0</td>\n",
       "    </tr>\n",
       "    <tr>\n",
       "      <th>539380</th>\n",
       "      <td>FL</td>\n",
       "      <td>609</td>\n",
       "      <td>SFO</td>\n",
       "      <td>MKE</td>\n",
       "      <td>5</td>\n",
       "      <td>1439</td>\n",
       "      <td>255</td>\n",
       "      <td>0</td>\n",
       "      <td>0.0</td>\n",
       "      <td>0.0</td>\n",
       "      <td>...</td>\n",
       "      <td>0.0</td>\n",
       "      <td>0.0</td>\n",
       "      <td>0.0</td>\n",
       "      <td>0.0</td>\n",
       "      <td>0.0</td>\n",
       "      <td>0.0</td>\n",
       "      <td>0.0</td>\n",
       "      <td>0.0</td>\n",
       "      <td>0.0</td>\n",
       "      <td>0.0</td>\n",
       "    </tr>\n",
       "    <tr>\n",
       "      <th>539381</th>\n",
       "      <td>UA</td>\n",
       "      <td>78</td>\n",
       "      <td>HNL</td>\n",
       "      <td>SFO</td>\n",
       "      <td>5</td>\n",
       "      <td>1439</td>\n",
       "      <td>313</td>\n",
       "      <td>1</td>\n",
       "      <td>0.0</td>\n",
       "      <td>0.0</td>\n",
       "      <td>...</td>\n",
       "      <td>0.0</td>\n",
       "      <td>0.0</td>\n",
       "      <td>0.0</td>\n",
       "      <td>0.0</td>\n",
       "      <td>0.0</td>\n",
       "      <td>0.0</td>\n",
       "      <td>0.0</td>\n",
       "      <td>0.0</td>\n",
       "      <td>0.0</td>\n",
       "      <td>0.0</td>\n",
       "    </tr>\n",
       "    <tr>\n",
       "      <th>539382</th>\n",
       "      <td>US</td>\n",
       "      <td>1442</td>\n",
       "      <td>LAX</td>\n",
       "      <td>PHL</td>\n",
       "      <td>5</td>\n",
       "      <td>1439</td>\n",
       "      <td>301</td>\n",
       "      <td>1</td>\n",
       "      <td>0.0</td>\n",
       "      <td>0.0</td>\n",
       "      <td>...</td>\n",
       "      <td>0.0</td>\n",
       "      <td>0.0</td>\n",
       "      <td>0.0</td>\n",
       "      <td>0.0</td>\n",
       "      <td>0.0</td>\n",
       "      <td>0.0</td>\n",
       "      <td>0.0</td>\n",
       "      <td>0.0</td>\n",
       "      <td>0.0</td>\n",
       "      <td>0.0</td>\n",
       "    </tr>\n",
       "  </tbody>\n",
       "</table>\n",
       "<p>539383 rows × 612 columns</p>\n",
       "</div>"
      ],
      "text/plain": [
       "       Airline  Flight AirportFrom AirportTo  DayOfWeek  Time  Length  Delay  \\\n",
       "0           CO     269         SFO       IAH          3    15     205      1   \n",
       "1           US    1558         PHX       CLT          3    15     222      1   \n",
       "2           AA    2400         LAX       DFW          3    20     165      1   \n",
       "3           AA    2466         SFO       DFW          3    20     195      1   \n",
       "4           AS     108         ANC       SEA          3    30     202      0   \n",
       "...        ...     ...         ...       ...        ...   ...     ...    ...   \n",
       "539378      CO     178         OGG       SNA          5  1439     326      0   \n",
       "539379      FL     398         SEA       ATL          5  1439     305      0   \n",
       "539380      FL     609         SFO       MKE          5  1439     255      0   \n",
       "539381      UA      78         HNL       SFO          5  1439     313      1   \n",
       "539382      US    1442         LAX       PHL          5  1439     301      1   \n",
       "\n",
       "         9E   AA  ...  TXK  TYR  TYS  UTM  VLD  VPS  WRG  XNA  YAK  YUM  \n",
       "0       0.0  0.0  ...  0.0  0.0  0.0  0.0  0.0  0.0  0.0  0.0  0.0  0.0  \n",
       "1       0.0  0.0  ...  0.0  0.0  0.0  0.0  0.0  0.0  0.0  0.0  0.0  0.0  \n",
       "2       0.0  1.0  ...  0.0  0.0  0.0  0.0  0.0  0.0  0.0  0.0  0.0  0.0  \n",
       "3       0.0  1.0  ...  0.0  0.0  0.0  0.0  0.0  0.0  0.0  0.0  0.0  0.0  \n",
       "4       0.0  0.0  ...  0.0  0.0  0.0  0.0  0.0  0.0  0.0  0.0  0.0  0.0  \n",
       "...     ...  ...  ...  ...  ...  ...  ...  ...  ...  ...  ...  ...  ...  \n",
       "539378  0.0  0.0  ...  0.0  0.0  0.0  0.0  0.0  0.0  0.0  0.0  0.0  0.0  \n",
       "539379  0.0  0.0  ...  0.0  0.0  0.0  0.0  0.0  0.0  0.0  0.0  0.0  0.0  \n",
       "539380  0.0  0.0  ...  0.0  0.0  0.0  0.0  0.0  0.0  0.0  0.0  0.0  0.0  \n",
       "539381  0.0  0.0  ...  0.0  0.0  0.0  0.0  0.0  0.0  0.0  0.0  0.0  0.0  \n",
       "539382  0.0  0.0  ...  0.0  0.0  0.0  0.0  0.0  0.0  0.0  0.0  0.0  0.0  \n",
       "\n",
       "[539383 rows x 612 columns]"
      ]
     },
     "execution_count": 17,
     "metadata": {},
     "output_type": "execute_result"
    }
   ],
   "source": [
    "df"
   ]
  },
  {
   "cell_type": "markdown",
   "metadata": {},
   "source": [
    "<br>\n",
    "\n",
    "## 2. Devide dataframe into X & Y -> Train X / Test X / Train Y / Test Y"
   ]
  },
  {
   "cell_type": "code",
   "execution_count": 18,
   "metadata": {
    "ExecuteTime": {
     "end_time": "2022-07-11T16:00:55.475532Z",
     "start_time": "2022-07-11T16:00:55.446672Z"
    }
   },
   "outputs": [],
   "source": [
    "target = df.loc[:,'Delay']\n",
    "feature = df.drop(columns=['Delay','Airline','AirportFrom','AirportTo'])"
   ]
  },
  {
   "cell_type": "code",
   "execution_count": 19,
   "metadata": {
    "ExecuteTime": {
     "end_time": "2022-07-11T16:00:55.506621Z",
     "start_time": "2022-07-11T16:00:55.476958Z"
    }
   },
   "outputs": [],
   "source": [
    "from sklearn import model_selection"
   ]
  },
  {
   "cell_type": "code",
   "execution_count": 20,
   "metadata": {
    "ExecuteTime": {
     "end_time": "2022-07-11T16:00:55.568292Z",
     "start_time": "2022-07-11T16:00:55.507510Z"
    }
   },
   "outputs": [
    {
     "name": "stdout",
     "output_type": "stream",
     "text": [
      "(377568, 608)\n",
      "(161815, 608)\n",
      "(377568,)\n",
      "(161815,)\n"
     ]
    }
   ],
   "source": [
    "train_data, test_data, train_label, test_label = model_selection.train_test_split(feature,target,\n",
    "                                                                                 test_size=0.3,\n",
    "                                                                                 random_state=0)\n",
    "print(train_data.shape)\n",
    "print(test_data.shape)\n",
    "print(train_label.shape)\n",
    "print(test_label.shape)"
   ]
  },
  {
   "cell_type": "code",
   "execution_count": 21,
   "metadata": {
    "ExecuteTime": {
     "end_time": "2022-07-11T16:00:55.583924Z",
     "start_time": "2022-07-11T16:00:55.569862Z"
    }
   },
   "outputs": [
    {
     "data": {
      "text/html": [
       "<div>\n",
       "<style scoped>\n",
       "    .dataframe tbody tr th:only-of-type {\n",
       "        vertical-align: middle;\n",
       "    }\n",
       "\n",
       "    .dataframe tbody tr th {\n",
       "        vertical-align: top;\n",
       "    }\n",
       "\n",
       "    .dataframe thead th {\n",
       "        text-align: right;\n",
       "    }\n",
       "</style>\n",
       "<table border=\"1\" class=\"dataframe\">\n",
       "  <thead>\n",
       "    <tr style=\"text-align: right;\">\n",
       "      <th></th>\n",
       "      <th>Flight</th>\n",
       "      <th>DayOfWeek</th>\n",
       "      <th>Time</th>\n",
       "      <th>Length</th>\n",
       "      <th>9E</th>\n",
       "      <th>AA</th>\n",
       "      <th>AS</th>\n",
       "      <th>B6</th>\n",
       "      <th>CO</th>\n",
       "      <th>DL</th>\n",
       "      <th>...</th>\n",
       "      <th>TXK</th>\n",
       "      <th>TYR</th>\n",
       "      <th>TYS</th>\n",
       "      <th>UTM</th>\n",
       "      <th>VLD</th>\n",
       "      <th>VPS</th>\n",
       "      <th>WRG</th>\n",
       "      <th>XNA</th>\n",
       "      <th>YAK</th>\n",
       "      <th>YUM</th>\n",
       "    </tr>\n",
       "  </thead>\n",
       "  <tbody>\n",
       "    <tr>\n",
       "      <th>359783</th>\n",
       "      <td>3656</td>\n",
       "      <td>2</td>\n",
       "      <td>990</td>\n",
       "      <td>100</td>\n",
       "      <td>1.0</td>\n",
       "      <td>0.0</td>\n",
       "      <td>0.0</td>\n",
       "      <td>0.0</td>\n",
       "      <td>0.0</td>\n",
       "      <td>0.0</td>\n",
       "      <td>...</td>\n",
       "      <td>0.0</td>\n",
       "      <td>0.0</td>\n",
       "      <td>0.0</td>\n",
       "      <td>0.0</td>\n",
       "      <td>0.0</td>\n",
       "      <td>0.0</td>\n",
       "      <td>0.0</td>\n",
       "      <td>0.0</td>\n",
       "      <td>0.0</td>\n",
       "      <td>0.0</td>\n",
       "    </tr>\n",
       "    <tr>\n",
       "      <th>152315</th>\n",
       "      <td>755</td>\n",
       "      <td>4</td>\n",
       "      <td>1080</td>\n",
       "      <td>268</td>\n",
       "      <td>0.0</td>\n",
       "      <td>0.0</td>\n",
       "      <td>1.0</td>\n",
       "      <td>0.0</td>\n",
       "      <td>0.0</td>\n",
       "      <td>0.0</td>\n",
       "      <td>...</td>\n",
       "      <td>0.0</td>\n",
       "      <td>0.0</td>\n",
       "      <td>0.0</td>\n",
       "      <td>0.0</td>\n",
       "      <td>0.0</td>\n",
       "      <td>0.0</td>\n",
       "      <td>0.0</td>\n",
       "      <td>0.0</td>\n",
       "      <td>0.0</td>\n",
       "      <td>0.0</td>\n",
       "    </tr>\n",
       "    <tr>\n",
       "      <th>117952</th>\n",
       "      <td>917</td>\n",
       "      <td>2</td>\n",
       "      <td>1139</td>\n",
       "      <td>124</td>\n",
       "      <td>0.0</td>\n",
       "      <td>0.0</td>\n",
       "      <td>0.0</td>\n",
       "      <td>0.0</td>\n",
       "      <td>0.0</td>\n",
       "      <td>0.0</td>\n",
       "      <td>...</td>\n",
       "      <td>0.0</td>\n",
       "      <td>0.0</td>\n",
       "      <td>0.0</td>\n",
       "      <td>0.0</td>\n",
       "      <td>0.0</td>\n",
       "      <td>0.0</td>\n",
       "      <td>0.0</td>\n",
       "      <td>0.0</td>\n",
       "      <td>0.0</td>\n",
       "      <td>0.0</td>\n",
       "    </tr>\n",
       "    <tr>\n",
       "      <th>435829</th>\n",
       "      <td>19</td>\n",
       "      <td>7</td>\n",
       "      <td>540</td>\n",
       "      <td>95</td>\n",
       "      <td>0.0</td>\n",
       "      <td>0.0</td>\n",
       "      <td>0.0</td>\n",
       "      <td>0.0</td>\n",
       "      <td>0.0</td>\n",
       "      <td>0.0</td>\n",
       "      <td>...</td>\n",
       "      <td>0.0</td>\n",
       "      <td>0.0</td>\n",
       "      <td>0.0</td>\n",
       "      <td>0.0</td>\n",
       "      <td>0.0</td>\n",
       "      <td>0.0</td>\n",
       "      <td>0.0</td>\n",
       "      <td>0.0</td>\n",
       "      <td>0.0</td>\n",
       "      <td>0.0</td>\n",
       "    </tr>\n",
       "    <tr>\n",
       "      <th>305711</th>\n",
       "      <td>6628</td>\n",
       "      <td>6</td>\n",
       "      <td>925</td>\n",
       "      <td>190</td>\n",
       "      <td>0.0</td>\n",
       "      <td>0.0</td>\n",
       "      <td>0.0</td>\n",
       "      <td>0.0</td>\n",
       "      <td>0.0</td>\n",
       "      <td>0.0</td>\n",
       "      <td>...</td>\n",
       "      <td>0.0</td>\n",
       "      <td>0.0</td>\n",
       "      <td>0.0</td>\n",
       "      <td>0.0</td>\n",
       "      <td>0.0</td>\n",
       "      <td>0.0</td>\n",
       "      <td>0.0</td>\n",
       "      <td>0.0</td>\n",
       "      <td>0.0</td>\n",
       "      <td>0.0</td>\n",
       "    </tr>\n",
       "  </tbody>\n",
       "</table>\n",
       "<p>5 rows × 608 columns</p>\n",
       "</div>"
      ],
      "text/plain": [
       "        Flight  DayOfWeek  Time  Length   9E   AA   AS   B6   CO   DL  ...  \\\n",
       "359783    3656          2   990     100  1.0  0.0  0.0  0.0  0.0  0.0  ...   \n",
       "152315     755          4  1080     268  0.0  0.0  1.0  0.0  0.0  0.0  ...   \n",
       "117952     917          2  1139     124  0.0  0.0  0.0  0.0  0.0  0.0  ...   \n",
       "435829      19          7   540      95  0.0  0.0  0.0  0.0  0.0  0.0  ...   \n",
       "305711    6628          6   925     190  0.0  0.0  0.0  0.0  0.0  0.0  ...   \n",
       "\n",
       "        TXK  TYR  TYS  UTM  VLD  VPS  WRG  XNA  YAK  YUM  \n",
       "359783  0.0  0.0  0.0  0.0  0.0  0.0  0.0  0.0  0.0  0.0  \n",
       "152315  0.0  0.0  0.0  0.0  0.0  0.0  0.0  0.0  0.0  0.0  \n",
       "117952  0.0  0.0  0.0  0.0  0.0  0.0  0.0  0.0  0.0  0.0  \n",
       "435829  0.0  0.0  0.0  0.0  0.0  0.0  0.0  0.0  0.0  0.0  \n",
       "305711  0.0  0.0  0.0  0.0  0.0  0.0  0.0  0.0  0.0  0.0  \n",
       "\n",
       "[5 rows x 608 columns]"
      ]
     },
     "execution_count": 21,
     "metadata": {},
     "output_type": "execute_result"
    }
   ],
   "source": [
    "train_data.tail()"
   ]
  },
  {
   "cell_type": "code",
   "execution_count": 22,
   "metadata": {
    "ExecuteTime": {
     "end_time": "2022-07-11T16:00:55.599103Z",
     "start_time": "2022-07-11T16:00:55.584314Z"
    }
   },
   "outputs": [],
   "source": [
    "from sklearn.preprocessing import StandardScaler"
   ]
  },
  {
   "cell_type": "code",
   "execution_count": 23,
   "metadata": {
    "ExecuteTime": {
     "end_time": "2022-07-11T16:00:55.614218Z",
     "start_time": "2022-07-11T16:00:55.600484Z"
    }
   },
   "outputs": [],
   "source": [
    "scaler = StandardScaler()"
   ]
  },
  {
   "cell_type": "code",
   "execution_count": 24,
   "metadata": {
    "ExecuteTime": {
     "end_time": "2022-07-11T16:00:55.707125Z",
     "start_time": "2022-07-11T16:00:55.614844Z"
    }
   },
   "outputs": [],
   "source": [
    "scaler.fit(train_data)"
   ]
  },
  {
   "cell_type": "code",
   "execution_count": 25,
   "metadata": {
    "ExecuteTime": {
     "end_time": "2022-07-11T16:00:55.753308Z",
     "start_time": "2022-07-11T16:00:55.708701Z"
    }
   },
   "outputs": [],
   "source": [
    "train_data = pd.DataFrame(scaler.transform(train_data), columns=feature.columns)\n",
    "test_data = pd.DataFrame(scaler.transform(test_data),columns=feature.columns)\n"
   ]
  },
  {
   "cell_type": "markdown",
   "metadata": {},
   "source": [
    "<br>\n",
    "\n",
    "## 3. Change normal labels to one-hot labels"
   ]
  },
  {
   "cell_type": "code",
   "execution_count": 26,
   "metadata": {
    "ExecuteTime": {
     "end_time": "2022-07-11T16:00:55.783739Z",
     "start_time": "2022-07-11T16:00:55.770045Z"
    }
   },
   "outputs": [
    {
     "data": {
      "text/plain": [
       "113669    0\n",
       "85132     0\n",
       "144594    0\n",
       "349431    1\n",
       "535787    1\n",
       "Name: Delay, dtype: int64"
      ]
     },
     "execution_count": 26,
     "metadata": {},
     "output_type": "execute_result"
    }
   ],
   "source": [
    "train_label[:5]"
   ]
  },
  {
   "cell_type": "code",
   "execution_count": 27,
   "metadata": {
    "ExecuteTime": {
     "end_time": "2022-07-11T16:00:57.695225Z",
     "start_time": "2022-07-11T16:00:55.785335Z"
    }
   },
   "outputs": [
    {
     "name": "stdout",
     "output_type": "stream",
     "text": [
      "(377568, 2)\n",
      "(161815, 2)\n"
     ]
    }
   ],
   "source": [
    "from tensorflow.keras import utils\n",
    "\n",
    "train_label = utils.to_categorical(train_label) # 0 or 1 -> one-hot vector\n",
    "test_label = utils.to_categorical(test_label) # 0 or 1 -> one-hot vector\n",
    "\n",
    "print(train_label.shape) # 모양을 영어로?\n",
    "print(test_label.shape) # 모양을 영어로?\n",
    "\n",
    "# from sklearn import preprocessing\n",
    "# enc = preprocessing.OneHotEncoder(categories='auto') # Apply 'One-hot encoding' on labels (Single integer to One-hot vector)\n",
    "# train_label = enc.fit_transform(train_label).toarray()\n",
    "# test_label = enc.fit_transform(test_label).toarray()"
   ]
  },
  {
   "cell_type": "code",
   "execution_count": 28,
   "metadata": {
    "ExecuteTime": {
     "end_time": "2022-07-11T16:00:57.710046Z",
     "start_time": "2022-07-11T16:00:57.697023Z"
    }
   },
   "outputs": [
    {
     "data": {
      "text/plain": [
       "array([[1., 0.],\n",
       "       [1., 0.],\n",
       "       [1., 0.],\n",
       "       ...,\n",
       "       [1., 0.],\n",
       "       [0., 1.],\n",
       "       [0., 1.]], dtype=float32)"
      ]
     },
     "execution_count": 28,
     "metadata": {},
     "output_type": "execute_result"
    }
   ],
   "source": [
    "train_label"
   ]
  },
  {
   "cell_type": "markdown",
   "metadata": {},
   "source": [
    "<br>\n",
    "\n",
    "## 4. Build & Train the model "
   ]
  },
  {
   "cell_type": "code",
   "execution_count": 29,
   "metadata": {
    "ExecuteTime": {
     "end_time": "2022-07-11T16:00:57.725025Z",
     "start_time": "2022-07-11T16:00:57.712574Z"
    }
   },
   "outputs": [],
   "source": [
    "import tensorflow as tf\n",
    "\n",
    "# tf.keras 에 필요한 함수들이 모여있습니다.\n",
    "from tensorflow.keras import datasets, utils\n",
    "from tensorflow.keras import models, layers, activations, initializers, losses, optimizers, metrics"
   ]
  },
  {
   "cell_type": "code",
   "execution_count": 30,
   "metadata": {
    "ExecuteTime": {
     "end_time": "2022-07-11T16:00:57.739798Z",
     "start_time": "2022-07-11T16:00:57.726577Z"
    }
   },
   "outputs": [],
   "source": [
    "import os\n",
    "os.environ['TF_CPP_MIN_LOG_LEVEL'] = '2' # https://stackoverflow.com/questions/35911252/disable-tensorflow-debugging-information"
   ]
  },
  {
   "cell_type": "code",
   "execution_count": 31,
   "metadata": {
    "ExecuteTime": {
     "end_time": "2022-07-11T16:00:57.815132Z",
     "start_time": "2022-07-11T16:00:57.740802Z"
    }
   },
   "outputs": [],
   "source": [
    "model = models.Sequential() # Build up the \"Sequence\" of layers (Linear stack of layers)\n",
    "\n",
    "# Dense-layer (with he-initialization)\n",
    "model.add(layers.Dense(input_dim=608, units=500, activation=None, kernel_initializer=initializers.he_uniform())) # he-uniform initialization\n",
    "model.add(layers.BatchNormalization()) # Use this line as if needed\n",
    "model.add(layers.Activation('elu')) # elu or relu (or layers.ELU / layers.LeakyReLU)\n",
    "\n",
    "\n",
    "model.add(layers.Dense(units=300, activation=None, kernel_initializer=initializers.he_uniform())) \n",
    "model.add(layers.BatchNormalization())\n",
    "model.add(layers.Activation('elu')) \n",
    "model.add(layers.Dropout(rate=0.2)) # Dropout-layer\n",
    "\n",
    "# model.add(layers.Dense(units=10, activation=None, kernel_initializer=initializers.he_uniform())) \n",
    "# model.add(layers.BatchNormalization())\n",
    "# model.add(layers.Activation('relu'))\n",
    "\n",
    "model.add(layers.Dense(units=100, activation=None, kernel_initializer=initializers.he_uniform())) \n",
    "model.add(layers.BatchNormalization())\n",
    "model.add(layers.Activation('elu')) \n",
    "model.add(layers.Dropout(rate=0.2)) # Dropout-layer\n",
    "\n",
    "model.add(layers.Dense(units=2, activation='softmax')) # Apply softmax function on model's output"
   ]
  },
  {
   "cell_type": "code",
   "execution_count": 32,
   "metadata": {
    "ExecuteTime": {
     "end_time": "2022-07-11T16:00:57.830802Z",
     "start_time": "2022-07-11T16:00:57.815680Z"
    }
   },
   "outputs": [],
   "source": [
    "# \"Compile\" the model description (Configures the model for training)\n",
    "\n",
    "model.compile(optimizer=optimizers.Adam(), # Please try the Adam-optimizer\n",
    "              loss=losses.categorical_crossentropy, \n",
    "              metrics=[metrics.categorical_accuracy]) # Precision / Recall / F1-Score 적용하기 @ https://j.mp/3cf3lbi"
   ]
  },
  {
   "cell_type": "code",
   "execution_count": 33,
   "metadata": {
    "ExecuteTime": {
     "end_time": "2022-07-11T16:00:45.803057Z",
     "start_time": "2022-07-11T16:00:45.795618Z"
    }
   },
   "outputs": [
    {
     "name": "stdout",
     "output_type": "stream",
     "text": [
      "Epoch 1/50\n",
      "53/53 - 10s - loss: 0.7780 - categorical_accuracy: 0.5388 - val_loss: 0.7701 - val_categorical_accuracy: 0.4510\n",
      "Epoch 2/50\n",
      "53/53 - 9s - loss: 0.7169 - categorical_accuracy: 0.5521 - val_loss: 0.6863 - val_categorical_accuracy: 0.5458\n",
      "Epoch 3/50\n",
      "53/53 - 10s - loss: 0.6968 - categorical_accuracy: 0.5663 - val_loss: 0.6850 - val_categorical_accuracy: 0.5557\n",
      "Epoch 4/50\n",
      "53/53 - 10s - loss: 0.6658 - categorical_accuracy: 0.6075 - val_loss: 0.6707 - val_categorical_accuracy: 0.5875\n",
      "Epoch 5/50\n",
      "53/53 - 10s - loss: 0.6506 - categorical_accuracy: 0.6235 - val_loss: 0.6683 - val_categorical_accuracy: 0.5604\n",
      "Epoch 6/50\n",
      "53/53 - 9s - loss: 0.6443 - categorical_accuracy: 0.6292 - val_loss: 0.6648 - val_categorical_accuracy: 0.5761\n",
      "Epoch 7/50\n",
      "53/53 - 10s - loss: 0.6390 - categorical_accuracy: 0.6348 - val_loss: 0.6595 - val_categorical_accuracy: 0.6017\n",
      "Epoch 8/50\n",
      "53/53 - 10s - loss: 0.6346 - categorical_accuracy: 0.6389 - val_loss: 0.6669 - val_categorical_accuracy: 0.5959\n",
      "Epoch 9/50\n",
      "53/53 - 10s - loss: 0.6320 - categorical_accuracy: 0.6425 - val_loss: 0.6439 - val_categorical_accuracy: 0.6329\n",
      "Epoch 10/50\n",
      "53/53 - 10s - loss: 0.6300 - categorical_accuracy: 0.6447 - val_loss: 0.6447 - val_categorical_accuracy: 0.6308\n",
      "Epoch 11/50\n",
      "53/53 - 10s - loss: 0.6294 - categorical_accuracy: 0.6437 - val_loss: 0.6434 - val_categorical_accuracy: 0.6316\n",
      "Epoch 12/50\n",
      "53/53 - 10s - loss: 0.6274 - categorical_accuracy: 0.6465 - val_loss: 0.6345 - val_categorical_accuracy: 0.6434\n",
      "Epoch 13/50\n",
      "53/53 - 10s - loss: 0.6287 - categorical_accuracy: 0.6445 - val_loss: 0.6547 - val_categorical_accuracy: 0.6208\n",
      "Epoch 14/50\n",
      "53/53 - 10s - loss: 0.6271 - categorical_accuracy: 0.6473 - val_loss: 0.6411 - val_categorical_accuracy: 0.6233\n",
      "Epoch 15/50\n",
      "53/53 - 10s - loss: 0.6270 - categorical_accuracy: 0.6459 - val_loss: 0.6249 - val_categorical_accuracy: 0.6488\n",
      "Epoch 16/50\n",
      "53/53 - 10s - loss: 0.6258 - categorical_accuracy: 0.6481 - val_loss: 0.6295 - val_categorical_accuracy: 0.6475\n",
      "Epoch 17/50\n",
      "53/53 - 9s - loss: 0.6255 - categorical_accuracy: 0.6479 - val_loss: 0.6284 - val_categorical_accuracy: 0.6409\n",
      "Epoch 18/50\n",
      "53/53 - 9s - loss: 0.6253 - categorical_accuracy: 0.6481 - val_loss: 0.6319 - val_categorical_accuracy: 0.6370\n",
      "Epoch 19/50\n",
      "53/53 - 10s - loss: 0.6255 - categorical_accuracy: 0.6482 - val_loss: 0.6255 - val_categorical_accuracy: 0.6456\n",
      "Epoch 20/50\n",
      "53/53 - 10s - loss: 0.6261 - categorical_accuracy: 0.6480 - val_loss: 0.6305 - val_categorical_accuracy: 0.6382\n",
      "Epoch 21/50\n",
      "53/53 - 9s - loss: 0.6252 - categorical_accuracy: 0.6488 - val_loss: 0.6398 - val_categorical_accuracy: 0.6326\n",
      "Epoch 22/50\n",
      "53/53 - 10s - loss: 0.6250 - categorical_accuracy: 0.6485 - val_loss: 0.6243 - val_categorical_accuracy: 0.6469\n",
      "Epoch 23/50\n",
      "53/53 - 10s - loss: 0.6242 - categorical_accuracy: 0.6498 - val_loss: 0.6307 - val_categorical_accuracy: 0.6446\n",
      "Epoch 24/50\n",
      "53/53 - 8s - loss: 0.6241 - categorical_accuracy: 0.6495 - val_loss: 0.6329 - val_categorical_accuracy: 0.6443\n",
      "Epoch 25/50\n",
      "53/53 - 8s - loss: 0.6239 - categorical_accuracy: 0.6493 - val_loss: 0.6371 - val_categorical_accuracy: 0.6405\n",
      "Epoch 26/50\n",
      "53/53 - 8s - loss: 0.6242 - categorical_accuracy: 0.6491 - val_loss: 0.6243 - val_categorical_accuracy: 0.6484\n",
      "Epoch 27/50\n",
      "53/53 - 8s - loss: 0.6240 - categorical_accuracy: 0.6492 - val_loss: 0.6246 - val_categorical_accuracy: 0.6496\n",
      "Epoch 28/50\n",
      "53/53 - 8s - loss: 0.6243 - categorical_accuracy: 0.6489 - val_loss: 0.6429 - val_categorical_accuracy: 0.6246\n",
      "Epoch 29/50\n",
      "53/53 - 8s - loss: 0.6242 - categorical_accuracy: 0.6492 - val_loss: 0.6290 - val_categorical_accuracy: 0.6451\n",
      "Epoch 30/50\n",
      "53/53 - 9s - loss: 0.6239 - categorical_accuracy: 0.6489 - val_loss: 0.6273 - val_categorical_accuracy: 0.6475\n",
      "Epoch 31/50\n",
      "53/53 - 9s - loss: 0.6236 - categorical_accuracy: 0.6501 - val_loss: 0.6467 - val_categorical_accuracy: 0.6213\n",
      "Epoch 32/50\n",
      "53/53 - 10s - loss: 0.6236 - categorical_accuracy: 0.6497 - val_loss: 0.6241 - val_categorical_accuracy: 0.6478\n",
      "Epoch 33/50\n",
      "53/53 - 10s - loss: 0.6235 - categorical_accuracy: 0.6492 - val_loss: 0.6220 - val_categorical_accuracy: 0.6499\n",
      "Epoch 34/50\n",
      "53/53 - 9s - loss: 0.6238 - categorical_accuracy: 0.6491 - val_loss: 0.6277 - val_categorical_accuracy: 0.6457\n",
      "Epoch 35/50\n",
      "53/53 - 10s - loss: 0.6231 - categorical_accuracy: 0.6499 - val_loss: 0.6341 - val_categorical_accuracy: 0.6427\n",
      "Epoch 36/50\n",
      "53/53 - 11s - loss: 0.6239 - categorical_accuracy: 0.6498 - val_loss: 0.6241 - val_categorical_accuracy: 0.6496\n",
      "Epoch 37/50\n",
      "53/53 - 12s - loss: 0.6232 - categorical_accuracy: 0.6490 - val_loss: 0.6394 - val_categorical_accuracy: 0.6273\n",
      "Epoch 38/50\n",
      "53/53 - 15s - loss: 0.6234 - categorical_accuracy: 0.6498 - val_loss: 0.6255 - val_categorical_accuracy: 0.6467\n",
      "Epoch 39/50\n",
      "53/53 - 12s - loss: 0.6234 - categorical_accuracy: 0.6491 - val_loss: 0.6240 - val_categorical_accuracy: 0.6485\n",
      "Epoch 40/50\n",
      "53/53 - 10s - loss: 0.6231 - categorical_accuracy: 0.6501 - val_loss: 0.6383 - val_categorical_accuracy: 0.6284\n",
      "Epoch 41/50\n",
      "53/53 - 10s - loss: 0.6233 - categorical_accuracy: 0.6500 - val_loss: 0.6505 - val_categorical_accuracy: 0.6305\n",
      "Epoch 42/50\n",
      "53/53 - 10s - loss: 0.6224 - categorical_accuracy: 0.6513 - val_loss: 0.6269 - val_categorical_accuracy: 0.6477\n",
      "Epoch 43/50\n",
      "53/53 - 11s - loss: 0.6228 - categorical_accuracy: 0.6501 - val_loss: 0.6243 - val_categorical_accuracy: 0.6466\n",
      "Epoch 44/50\n",
      "53/53 - 11s - loss: 0.6232 - categorical_accuracy: 0.6502 - val_loss: 0.6222 - val_categorical_accuracy: 0.6506\n",
      "Epoch 45/50\n",
      "53/53 - 11s - loss: 0.6228 - categorical_accuracy: 0.6505 - val_loss: 0.6636 - val_categorical_accuracy: 0.6355\n",
      "Epoch 46/50\n",
      "53/53 - 10s - loss: 0.6228 - categorical_accuracy: 0.6503 - val_loss: 0.6272 - val_categorical_accuracy: 0.6470\n",
      "Epoch 47/50\n",
      "53/53 - 13s - loss: 0.6232 - categorical_accuracy: 0.6494 - val_loss: 0.6320 - val_categorical_accuracy: 0.6449\n",
      "Epoch 48/50\n",
      "53/53 - 12s - loss: 0.6220 - categorical_accuracy: 0.6511 - val_loss: 0.6325 - val_categorical_accuracy: 0.6445\n",
      "Epoch 49/50\n",
      "53/53 - 11s - loss: 0.6235 - categorical_accuracy: 0.6492 - val_loss: 0.6334 - val_categorical_accuracy: 0.6436\n",
      "Epoch 50/50\n",
      "53/53 - 11s - loss: 0.6229 - categorical_accuracy: 0.6501 - val_loss: 0.6264 - val_categorical_accuracy: 0.6444\n"
     ]
    }
   ],
   "source": [
    "# \"Fit\" the model on training data\n",
    "\n",
    "history = model.fit(train_data, train_label, batch_size=5000, epochs=50, validation_split=0.3,verbose=2) "
   ]
  },
  {
   "cell_type": "code",
   "execution_count": 34,
   "metadata": {
    "ExecuteTime": {
     "end_time": "2022-07-11T14:36:05.355236Z",
     "start_time": "2022-07-11T14:36:03.437792Z"
    },
    "scrolled": true
   },
   "outputs": [
    {
     "name": "stdout",
     "output_type": "stream",
     "text": [
      "5057/5057 [==============================] - 9s 2ms/step - loss: 0.6262 - categorical_accuracy: 0.6462\n",
      "loss (cross-entropy) : 0.6262430548667908\n",
      "test accuracy : 0.6462379693984985\n"
     ]
    }
   ],
   "source": [
    "# \"Evaluate\" the model on test data\n",
    "\n",
    "result = model.evaluate(test_data, test_label)\n",
    "\n",
    "print('loss (cross-entropy) :', result[0])\n",
    "print('test accuracy :', result[1])"
   ]
  },
  {
   "cell_type": "code",
   "execution_count": 66,
   "metadata": {
    "ExecuteTime": {
     "end_time": "2022-06-30T01:30:17.795655Z",
     "start_time": "2022-06-30T01:30:17.790666Z"
    }
   },
   "outputs": [
    {
     "data": {
      "text/plain": [
       "dict_keys(['loss', 'categorical_accuracy', 'val_loss', 'val_categorical_accuracy'])"
      ]
     },
     "execution_count": 66,
     "metadata": {},
     "output_type": "execute_result"
    }
   ],
   "source": [
    "history.history.keys()"
   ]
  },
  {
   "cell_type": "code",
   "execution_count": 66,
   "metadata": {
    "ExecuteTime": {
     "end_time": "2022-06-30T01:31:10.694516Z",
     "start_time": "2022-06-30T01:31:10.689443Z"
    }
   },
   "outputs": [
    {
     "name": "stdout",
     "output_type": "stream",
     "text": [
      "[0.5440129637718201, 0.5523558855056763, 0.5573427081108093, 0.5864803791046143, 0.6118041276931763, 0.622765302658081, 0.6294698715209961, 0.6330491900444031, 0.6385316252708435, 0.6410099267959595, 0.6407261490821838, 0.6427503824234009, 0.6437946557998657, 0.6435298323631287, 0.646004319190979, 0.6455843448638916, 0.6466626524925232, 0.6466361880302429, 0.6463448405265808, 0.648028552532196, 0.6473209857940674, 0.6485468745231628, 0.6482933759689331, 0.6483009457588196, 0.6486831307411194, 0.6487058401107788, 0.6486377120018005, 0.6494511961936951, 0.6477258801460266, 0.6494057774543762, 0.6493452191352844, 0.6481912136077881, 0.648849606513977, 0.6488193273544312, 0.6490955352783203, 0.6500792503356934, 0.650302529335022, 0.6493906378746033, 0.6508775949478149, 0.6499203443527222, 0.6485090851783752, 0.6486868858337402, 0.6499354839324951, 0.6496328115463257, 0.6487587690353394, 0.6493338942527771, 0.64894038438797, 0.651286244392395, 0.649980902671814, 0.6502760052680969]\n"
     ]
    }
   ],
   "source": [
    "print(history.history['categorical_accuracy'])"
   ]
  },
  {
   "cell_type": "code",
   "execution_count": 36,
   "metadata": {},
   "outputs": [],
   "source": [
    "%matplotlib inline"
   ]
  },
  {
   "cell_type": "code",
   "execution_count": 37,
   "metadata": {
    "ExecuteTime": {
     "end_time": "2022-06-30T01:30:19.824805Z",
     "start_time": "2022-06-30T01:30:19.704097Z"
    },
    "scrolled": true
   },
   "outputs": [
    {
     "data": {
      "image/png": "[encoded data removed]",
      "text/plain": [
       "<Figure size 432x288 with 1 Axes>"
      ]
     },
     "metadata": {
      "needs_background": "light"
     },
     "output_type": "display_data"
    }
   ],
   "source": [
    "acc = history.history['categorical_accuracy']\n",
    "val_acc = history.history['val_categorical_accuracy']\n",
    "\n",
    "x_len = np.arange(len(acc))\n",
    "\n",
    "plt.plot(x_len, acc, marker='.', c='blue', label=\"Train-set Acc.\")\n",
    "plt.plot(x_len, val_acc, marker='.', c='red', label=\"Validation-set Acc.\")\n",
    "\n",
    "plt.legend(loc='upper right')\n",
    "plt.grid()\n",
    "plt.xlabel('epoch')\n",
    "plt.ylabel('Accuracy')\n",
    "plt.show()"
   ]
  },
  {
   "cell_type": "code",
   "execution_count": 69,
   "metadata": {
    "ExecuteTime": {
     "end_time": "2022-06-30T01:32:59.489959Z",
     "start_time": "2022-06-30T01:32:59.482262Z"
    }
   },
   "outputs": [
    {
     "data": {
      "text/plain": [
       "dict_keys(['loss', 'categorical_accuracy', 'val_loss', 'val_categorical_accuracy'])"
      ]
     },
     "execution_count": 69,
     "metadata": {},
     "output_type": "execute_result"
    }
   ],
   "source": [
    "history.history.keys()"
   ]
  },
  {
   "cell_type": "code",
   "execution_count": 38,
   "metadata": {
    "ExecuteTime": {
     "end_time": "2022-06-30T01:33:36.533165Z",
     "start_time": "2022-06-30T01:33:36.439664Z"
    }
   },
   "outputs": [
    {
     "data": {
      "image/png": "[encoded data removed]",
      "text/plain": [
       "<Figure size 432x288 with 1 Axes>"
      ]
     },
     "metadata": {
      "needs_background": "light"
     },
     "output_type": "display_data"
    }
   ],
   "source": [
    "loss = history.history['loss']\n",
    "val_loss = history.history['val_loss']\n",
    "\n",
    "x_len = np.arange(len(acc))\n",
    "\n",
    "plt.plot(x_len, loss, marker='.', c='blue', label=\"Train-set loss.\")\n",
    "plt.plot(x_len, val_loss, marker='.', c='red', label=\"Validation-set loss.\")\n",
    "\n",
    "plt.legend(loc='upper right')\n",
    "plt.grid()\n",
    "plt.xlabel('epoch')\n",
    "plt.ylabel('Cross-entropy')\n",
    "plt.show()"
   ]
  },
  {
   "cell_type": "code",
   "execution_count": 71,
   "metadata": {
    "ExecuteTime": {
     "end_time": "2022-06-30T01:34:08.598507Z",
     "start_time": "2022-06-30T01:34:08.498860Z"
    }
   },
   "outputs": [
    {
     "data": {
      "text/plain": [
       "array([[0.2195888 , 0.7804112 ],\n",
       "       [0.82811254, 0.17188743],\n",
       "       [0.24342093, 0.75657904],\n",
       "       ...,\n",
       "       [0.1821252 , 0.8178748 ],\n",
       "       [0.5356752 , 0.46432477],\n",
       "       [0.89463866, 0.10536131]], dtype=float32)"
      ]
     },
     "execution_count": 71,
     "metadata": {},
     "output_type": "execute_result"
    }
   ],
   "source": [
    "# 'Predict' on test data\n",
    "\n",
    "model.predict(test_data)"
   ]
  },
  {
   "cell_type": "code",
   "execution_count": 72,
   "metadata": {
    "ExecuteTime": {
     "end_time": "2022-06-30T01:35:08.655689Z",
     "start_time": "2022-06-30T01:35:08.592518Z"
    }
   },
   "outputs": [
    {
     "data": {
      "text/plain": [
       "array([1, 0, 1, ..., 1, 0, 0], dtype=int64)"
      ]
     },
     "execution_count": 72,
     "metadata": {},
     "output_type": "execute_result"
    }
   ],
   "source": [
    "np.argmax(model.predict(test_data), axis=1)"
   ]
  },
  {
   "cell_type": "code",
   "execution_count": 104,
   "metadata": {
    "ExecuteTime": {
     "end_time": "2022-06-30T01:36:46.954970Z",
     "start_time": "2022-06-30T01:36:46.949356Z"
    }
   },
   "outputs": [
    {
     "data": {
      "text/plain": [
       "(1, 7)"
      ]
     },
     "execution_count": 104,
     "metadata": {},
     "output_type": "execute_result"
    }
   ],
   "source": [
    "sample_data = np.array([[4,178,203,264,5,1439,326]])\n",
    "sample_data.shape"
   ]
  },
  {
   "cell_type": "code",
   "execution_count": 105,
   "metadata": {
    "ExecuteTime": {
     "end_time": "2022-06-30T01:36:50.207305Z",
     "start_time": "2022-06-30T01:36:50.134820Z"
    }
   },
   "outputs": [
    {
     "data": {
      "text/plain": [
       "array([[1.8143347e-14, 1.0000000e+00]], dtype=float32)"
      ]
     },
     "execution_count": 105,
     "metadata": {},
     "output_type": "execute_result"
    }
   ],
   "source": [
    "model.predict(sample_data)"
   ]
  },
  {
   "cell_type": "code",
   "execution_count": 106,
   "metadata": {
    "ExecuteTime": {
     "end_time": "2022-06-30T01:36:57.132587Z",
     "start_time": "2022-06-30T01:36:57.082371Z"
    }
   },
   "outputs": [
    {
     "data": {
      "text/plain": [
       "array([1], dtype=int64)"
      ]
     },
     "execution_count": 106,
     "metadata": {},
     "output_type": "execute_result"
    }
   ],
   "source": [
    "np.argmax(model.predict(sample_data), axis=1)"
   ]
  },
  {
   "cell_type": "markdown",
   "metadata": {},
   "source": [
    "## Save model & load model"
   ]
  },
  {
   "cell_type": "code",
   "execution_count": 39,
   "metadata": {},
   "outputs": [],
   "source": [
    "# 저장되는 항목 \n",
    "# - Model의 architecture\n",
    "# - Model의 모든 weights (Parameter Theta)\n",
    "# - The state of the optimizer (바로 모델 학습의 재개 가능)\n",
    "\n",
    "model.save('./model/trained_model.h5') # \"Save\" the model\n",
    "\n",
    "# model.save_weights('trained_model.h5') # weights만 따로 저장도 가능함\n",
    "# model.load_weights('trained_model.h5')"
   ]
  },
  {
   "cell_type": "code",
   "execution_count": 71,
   "metadata": {
    "ExecuteTime": {
     "end_time": "2022-07-11T16:01:06.025634Z",
     "start_time": "2022-07-11T16:01:05.962982Z"
    }
   },
   "outputs": [],
   "source": [
    "model = models.load_model('./model/trained_model.h5') # \"Load\" the \"model\"\n",
    "\n",
    "# model.load_weights('trained_model.h5') # weights만 따로 불러올 수 있음"
   ]
  },
  {
   "cell_type": "markdown",
   "id": "e1d15266",
   "metadata": {},
   "source": [
    "## FLASK 셋팅하기"
   ]
  },
  {
   "cell_type": "code",
   "execution_count": 133,
   "metadata": {
    "ExecuteTime": {
     "end_time": "2022-07-11T16:01:07.247525Z",
     "start_time": "2022-07-11T16:01:06.860716Z"
    }
   },
   "outputs": [],
   "source": [
    "from flask import Flask\n",
    "from flask import render_template\n",
    "from flask import request"
   ]
  },
  {
   "cell_type": "code",
   "execution_count": 134,
   "metadata": {
    "ExecuteTime": {
     "end_time": "2022-07-11T16:01:07.262141Z",
     "start_time": "2022-07-11T16:01:07.249084Z"
    }
   },
   "outputs": [],
   "source": [
    "app = Flask(__name__)"
   ]
  },
  {
   "cell_type": "markdown",
   "metadata": {},
   "source": [
    "# FLASK API 구현부분"
   ]
  },
  {
   "cell_type": "code",
   "execution_count": 135,
   "metadata": {
    "ExecuteTime": {
     "end_time": "2022-07-11T16:01:09.171989Z",
     "start_time": "2022-07-11T16:01:09.155609Z"
    }
   },
   "outputs": [],
   "source": [
    "@app.route('/')\n",
    "@app.route('/Airline_delay')\n",
    "def AirlinePrediction():\n",
    "    Airline = request.args.get(\"Airline\")\n",
    "    Flight = request.args.get(\"Flight\")\n",
    "    AirportFrom = request.args.get(\"AirportFrom\")\n",
    "    AirportTo = request.args.get(\"AirportTo\")\n",
    "    DayOfWeek = request.args.get(\"DayOfWeek\")\n",
    "    Time = request.args.get(\"Time\")\n",
    "    Length = request.args.get(\"Length\")\n",
    "       \n",
    "    if Airline == None or Flight == None:\n",
    "        return render_template('Airline.html', Output = '')\n",
    "    \n",
    "    Input = pd.DataFrame({\n",
    "        'Airline': [str(Airline)],\n",
    "        'Flight':  [float(Flight)] ,\n",
    "        'AirportFrom': [str(AirportFrom)],\n",
    "        'AirportTo': [str(AirportTo)] ,\n",
    "        'DayOfWeek':  [float(DayOfWeek)] ,\n",
    "        'Time':  [float(Time)] ,\n",
    "        'Length':  [float(Length)]\n",
    "    })\n",
    "    \n",
    "    \n",
    "    \n",
    "    trans1 = enc1.transform(Input[['Airline']])\n",
    "    trans2 = enc2.transform(Input[['AirportFrom']])\n",
    "    trans3 = enc3.transform(Input[['AirportTo']])\n",
    "    con1 = pd.DataFrame(trans1.toarray(), columns=enc1.categories_[0])\n",
    "    con2 = pd.DataFrame(trans2.toarray(), columns=enc2.categories_[0])\n",
    "    con3 = pd.DataFrame(trans3.toarray(), columns=enc3.categories_[0])\n",
    "    Input = pd.concat([Input,con1],axis=1)\n",
    "    Input = pd.concat([Input,con2],axis=1)\n",
    "    Input = pd.concat([Input,con3],axis=1)\n",
    "\n",
    "    Input = Input.drop(columns=['Airline','AirportFrom','AirportTo'])\n",
    "    \n",
    "    # ModelOutput = model.predict(Input)[0][0]\n",
    "    ModelOutput = np.argmax(model.predict(Input), axis=1)\n",
    "    \n",
    "    return render_template('Airline.html', Output = ModelOutput)"
   ]
  },
  {
   "cell_type": "markdown",
   "metadata": {},
   "source": [
    "# Flask, port 5000으로 실행"
   ]
  },
  {
   "cell_type": "code",
   "execution_count": 136,
   "metadata": {
    "ExecuteTime": {
     "start_time": "2022-07-11T16:01:11.371Z"
    }
   },
   "outputs": [
    {
     "name": "stdout",
     "output_type": "stream",
     "text": [
      " * Serving Flask app \"__main__\" (lazy loading)\n",
      " * Environment: production\n",
      "   WARNING: This is a development server. Do not use it in a production deployment.\n",
      "   Use a production WSGI server instead.\n",
      " * Debug mode: off\n"
     ]
    },
    {
     "name": "stderr",
     "output_type": "stream",
     "text": [
      " * Running on http://0.0.0.0:5000/ (Press CTRL+C to quit)\n",
      "127.0.0.1 - - [13/Jul/2022 01:05:48] \"\u001b[37mGET /Airline_delay?Airline=B6&Flight=428&DayOfWeek=5&AirportFrom=ANC&AirportTo=IAH&Time=15&Length=202 HTTP/1.1\u001b[0m\" 200 -\n",
      "127.0.0.1 - - [13/Jul/2022 01:06:01] \"\u001b[37mGET /Airline_delay?Airline=DL&Flight=108&DayOfWeek=3&AirportFrom=ANC&AirportTo=SEA&Time=30&Length=202 HTTP/1.1\u001b[0m\" 200 -\n",
      "127.0.0.1 - - [13/Jul/2022 01:06:21] \"\u001b[37mGET /Airline_delay HTTP/1.1\u001b[0m\" 200 -\n",
      "127.0.0.1 - - [13/Jul/2022 01:06:32] \"\u001b[37mGET /Airline_delay?Airline=YV&Flight=108&DayOfWeek=3&AirportFrom=ANC&AirportTo=SEA&Time=30&Length=202 HTTP/1.1\u001b[0m\" 200 -\n",
      "[2022-07-13 01:06:37,275] ERROR in app: Exception on /Airline_delay [GET]\n",
      "Traceback (most recent call last):\n",
      "  File \"c:\\anaconda3\\lib\\site-packages\\flask\\app.py\", line 2447, in wsgi_app\n",
      "    response = self.full_dispatch_request()\n",
      "  File \"c:\\anaconda3\\lib\\site-packages\\flask\\app.py\", line 1952, in full_dispatch_request\n",
      "    rv = self.handle_user_exception(e)\n",
      "  File \"c:\\anaconda3\\lib\\site-packages\\flask\\app.py\", line 1821, in handle_user_exception\n",
      "    reraise(exc_type, exc_value, tb)\n",
      "  File \"c:\\anaconda3\\lib\\site-packages\\flask\\_compat.py\", line 39, in reraise\n",
      "    raise value\n",
      "  File \"c:\\anaconda3\\lib\\site-packages\\flask\\app.py\", line 1950, in full_dispatch_request\n",
      "    rv = self.dispatch_request()\n",
      "  File \"c:\\anaconda3\\lib\\site-packages\\flask\\app.py\", line 1936, in dispatch_request\n",
      "    return self.view_functions[rule.endpoint](**req.view_args)\n",
      "  File \"<ipython-input-135-e03be3413cd5>\", line 17, in AirlinePrediction\n",
      "    'Flight':  [float(Flight)] ,\n",
      "ValueError: could not convert string to float: ''\n",
      "127.0.0.1 - - [13/Jul/2022 01:06:37] \"\u001b[35m\u001b[1mGET /Airline_delay?Airline=UA&Flight=&DayOfWeek=&AirportFrom=&AirportTo=&Time=&Length= HTTP/1.1\u001b[0m\" 500 -\n",
      "127.0.0.1 - - [13/Jul/2022 01:06:45] \"\u001b[37mGET /Airline_delay?Airline=F9&Flight=108&DayOfWeek=3&AirportFrom=ANC&AirportTo=SEA&Time=30&Length=202 HTTP/1.1\u001b[0m\" 200 -\n",
      "127.0.0.1 - - [13/Jul/2022 01:06:50] \"\u001b[37mGET /Airline_delay?Airline=WN&Flight=108&DayOfWeek=3&AirportFrom=ANC&AirportTo=SEA&Time=30&Length=202 HTTP/1.1\u001b[0m\" 200 -\n",
      "127.0.0.1 - - [13/Jul/2022 01:06:56] \"\u001b[37mGET /Airline_delay?Airline=AA&Flight=108&DayOfWeek=3&AirportFrom=ANC&AirportTo=SEA&Time=30&Length=202 HTTP/1.1\u001b[0m\" 200 -\n",
      "127.0.0.1 - - [13/Jul/2022 01:07:11] \"\u001b[37mGET /Airline_delay?Airline=XE&Flight=108&DayOfWeek=3&AirportFrom=ANC&AirportTo=SEA&Time=30&Length=202 HTTP/1.1\u001b[0m\" 200 -\n"
     ]
    }
   ],
   "source": [
    "app.run(host='0.0.0.0', port=5000)"
   ]
  },
  {
   "cell_type": "code",
   "execution_count": null,
   "metadata": {},
   "outputs": [],
   "source": []
  }
 ],
 "metadata": {
  "kernel_info": {
   "name": "python3"
  },
  "kernelspec": {
   "display_name": "Python 3",
   "language": "python",
   "name": "python3"
  },
  "language_info": {
   "codemirror_mode": {
    "name": "ipython",
    "version": 3
   },
   "file_extension": ".py",
   "mimetype": "text/x-python",
   "name": "python",
   "nbconvert_exporter": "python",
   "pygments_lexer": "ipython3",
   "version": "3.8.8"
  },
  "nteract": {
   "version": "0.15.0"
  },
  "toc": {
   "base_numbering": 1,
   "nav_menu": {},
   "number_sections": true,
   "sideBar": true,
   "skip_h1_title": false,
   "title_cell": "Table of Contents",
   "title_sidebar": "Contents",
   "toc_cell": false,
   "toc_position": {},
   "toc_section_display": true,
   "toc_window_display": false
  },
  "vscode": {
   "interpreter": {
    "hash": "ff4f85d6e04298634172ac5d8264e7e9b556b95639fe52ebb9425c4d4cba0c9c"
   }
  }
 },
 "nbformat": 4,
 "nbformat_minor": 2
}
